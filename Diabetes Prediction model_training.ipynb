{
 "cells": [
  {
   "cell_type": "code",
   "execution_count": 1,
   "id": "8d9dc183-77ca-4bd6-9eff-5d6d2044c072",
   "metadata": {},
   "outputs": [],
   "source": [
    "import pandas as pd\n",
    "import seaborn as sns\n",
    "import numpy as np\n",
    "import matplotlib.pyplot as plt\n",
    "%matplotlib inline\n",
    "import warnings\n",
    "warnings.filterwarnings('ignore')"
   ]
  },
  {
   "cell_type": "code",
   "execution_count": 2,
   "id": "e2dbd903-7960-44a1-b886-d537cb2d31a3",
   "metadata": {},
   "outputs": [
    {
     "data": {
      "text/html": [
       "<div>\n",
       "<style scoped>\n",
       "    .dataframe tbody tr th:only-of-type {\n",
       "        vertical-align: middle;\n",
       "    }\n",
       "\n",
       "    .dataframe tbody tr th {\n",
       "        vertical-align: top;\n",
       "    }\n",
       "\n",
       "    .dataframe thead th {\n",
       "        text-align: right;\n",
       "    }\n",
       "</style>\n",
       "<table border=\"1\" class=\"dataframe\">\n",
       "  <thead>\n",
       "    <tr style=\"text-align: right;\">\n",
       "      <th></th>\n",
       "      <th>Pregnancies</th>\n",
       "      <th>Glucose</th>\n",
       "      <th>BloodPressure</th>\n",
       "      <th>SkinThickness</th>\n",
       "      <th>Insulin</th>\n",
       "      <th>BMI</th>\n",
       "      <th>DiabetesPedigreeFunction</th>\n",
       "      <th>Age</th>\n",
       "      <th>Outcome</th>\n",
       "    </tr>\n",
       "  </thead>\n",
       "  <tbody>\n",
       "    <tr>\n",
       "      <th>0</th>\n",
       "      <td>6</td>\n",
       "      <td>148</td>\n",
       "      <td>72</td>\n",
       "      <td>35</td>\n",
       "      <td>0</td>\n",
       "      <td>33.6</td>\n",
       "      <td>0.627</td>\n",
       "      <td>50</td>\n",
       "      <td>1</td>\n",
       "    </tr>\n",
       "    <tr>\n",
       "      <th>1</th>\n",
       "      <td>1</td>\n",
       "      <td>85</td>\n",
       "      <td>66</td>\n",
       "      <td>29</td>\n",
       "      <td>0</td>\n",
       "      <td>26.6</td>\n",
       "      <td>0.351</td>\n",
       "      <td>31</td>\n",
       "      <td>0</td>\n",
       "    </tr>\n",
       "    <tr>\n",
       "      <th>2</th>\n",
       "      <td>8</td>\n",
       "      <td>183</td>\n",
       "      <td>64</td>\n",
       "      <td>0</td>\n",
       "      <td>0</td>\n",
       "      <td>23.3</td>\n",
       "      <td>0.672</td>\n",
       "      <td>32</td>\n",
       "      <td>1</td>\n",
       "    </tr>\n",
       "    <tr>\n",
       "      <th>3</th>\n",
       "      <td>1</td>\n",
       "      <td>89</td>\n",
       "      <td>66</td>\n",
       "      <td>23</td>\n",
       "      <td>94</td>\n",
       "      <td>28.1</td>\n",
       "      <td>0.167</td>\n",
       "      <td>21</td>\n",
       "      <td>0</td>\n",
       "    </tr>\n",
       "    <tr>\n",
       "      <th>4</th>\n",
       "      <td>0</td>\n",
       "      <td>137</td>\n",
       "      <td>40</td>\n",
       "      <td>35</td>\n",
       "      <td>168</td>\n",
       "      <td>43.1</td>\n",
       "      <td>2.288</td>\n",
       "      <td>33</td>\n",
       "      <td>1</td>\n",
       "    </tr>\n",
       "  </tbody>\n",
       "</table>\n",
       "</div>"
      ],
      "text/plain": [
       "   Pregnancies  Glucose  BloodPressure  SkinThickness  Insulin   BMI  \\\n",
       "0            6      148             72             35        0  33.6   \n",
       "1            1       85             66             29        0  26.6   \n",
       "2            8      183             64              0        0  23.3   \n",
       "3            1       89             66             23       94  28.1   \n",
       "4            0      137             40             35      168  43.1   \n",
       "\n",
       "   DiabetesPedigreeFunction  Age  Outcome  \n",
       "0                     0.627   50        1  \n",
       "1                     0.351   31        0  \n",
       "2                     0.672   32        1  \n",
       "3                     0.167   21        0  \n",
       "4                     2.288   33        1  "
      ]
     },
     "execution_count": 2,
     "metadata": {},
     "output_type": "execute_result"
    }
   ],
   "source": [
    "df = pd.read_csv(\"diabetes.csv\")\n",
    "df.head()"
   ]
  },
  {
   "cell_type": "code",
   "execution_count": 3,
   "id": "80e1af93-eef8-4b45-8fe6-0ee895da295b",
   "metadata": {},
   "outputs": [
    {
     "name": "stdout",
     "output_type": "stream",
     "text": [
      "<class 'pandas.core.frame.DataFrame'>\n",
      "RangeIndex: 768 entries, 0 to 767\n",
      "Data columns (total 9 columns):\n",
      " #   Column                    Non-Null Count  Dtype  \n",
      "---  ------                    --------------  -----  \n",
      " 0   Pregnancies               768 non-null    int64  \n",
      " 1   Glucose                   768 non-null    int64  \n",
      " 2   BloodPressure             768 non-null    int64  \n",
      " 3   SkinThickness             768 non-null    int64  \n",
      " 4   Insulin                   768 non-null    int64  \n",
      " 5   BMI                       768 non-null    float64\n",
      " 6   DiabetesPedigreeFunction  768 non-null    float64\n",
      " 7   Age                       768 non-null    int64  \n",
      " 8   Outcome                   768 non-null    int64  \n",
      "dtypes: float64(2), int64(7)\n",
      "memory usage: 54.1 KB\n"
     ]
    }
   ],
   "source": [
    "df.info()"
   ]
  },
  {
   "cell_type": "code",
   "execution_count": 4,
   "id": "242ed060-983e-4a88-9c02-e6f81ca4b3ab",
   "metadata": {},
   "outputs": [
    {
     "data": {
      "text/plain": [
       "Pregnancies                 0\n",
       "Glucose                     0\n",
       "BloodPressure               0\n",
       "SkinThickness               0\n",
       "Insulin                     0\n",
       "BMI                         0\n",
       "DiabetesPedigreeFunction    0\n",
       "Age                         0\n",
       "Outcome                     0\n",
       "dtype: int64"
      ]
     },
     "execution_count": 4,
     "metadata": {},
     "output_type": "execute_result"
    }
   ],
   "source": [
    "df.isnull().sum()"
   ]
  },
  {
   "cell_type": "code",
   "execution_count": 5,
   "id": "5034d4e0-ecb2-4cfb-819c-bfc443bdb9c2",
   "metadata": {},
   "outputs": [
    {
     "data": {
      "text/plain": [
       "0"
      ]
     },
     "execution_count": 5,
     "metadata": {},
     "output_type": "execute_result"
    }
   ],
   "source": [
    "df.duplicated().sum()"
   ]
  },
  {
   "cell_type": "code",
   "execution_count": 6,
   "id": "ba18f9eb-8847-4d1a-a63a-17e8a7754312",
   "metadata": {},
   "outputs": [
    {
     "data": {
      "text/plain": [
       "Pregnancies                  17\n",
       "Glucose                     136\n",
       "BloodPressure                47\n",
       "SkinThickness                51\n",
       "Insulin                     186\n",
       "BMI                         248\n",
       "DiabetesPedigreeFunction    517\n",
       "Age                          52\n",
       "Outcome                       2\n",
       "dtype: int64"
      ]
     },
     "execution_count": 6,
     "metadata": {},
     "output_type": "execute_result"
    }
   ],
   "source": [
    "df.nunique()"
   ]
  },
  {
   "cell_type": "code",
   "execution_count": 7,
   "id": "b642c5e8-513d-4f91-87ed-73c3d9003484",
   "metadata": {},
   "outputs": [
    {
     "data": {
      "text/plain": [
       "(768, 9)"
      ]
     },
     "execution_count": 7,
     "metadata": {},
     "output_type": "execute_result"
    }
   ],
   "source": [
    "df.shape"
   ]
  },
  {
   "cell_type": "code",
   "execution_count": 8,
   "id": "3a16bfaf-5cee-42b9-b3d4-6097f575e176",
   "metadata": {},
   "outputs": [
    {
     "data": {
      "text/html": [
       "<div>\n",
       "<style scoped>\n",
       "    .dataframe tbody tr th:only-of-type {\n",
       "        vertical-align: middle;\n",
       "    }\n",
       "\n",
       "    .dataframe tbody tr th {\n",
       "        vertical-align: top;\n",
       "    }\n",
       "\n",
       "    .dataframe thead th {\n",
       "        text-align: right;\n",
       "    }\n",
       "</style>\n",
       "<table border=\"1\" class=\"dataframe\">\n",
       "  <thead>\n",
       "    <tr style=\"text-align: right;\">\n",
       "      <th></th>\n",
       "      <th>Pregnancies</th>\n",
       "      <th>Glucose</th>\n",
       "      <th>BloodPressure</th>\n",
       "      <th>SkinThickness</th>\n",
       "      <th>Insulin</th>\n",
       "      <th>BMI</th>\n",
       "      <th>DiabetesPedigreeFunction</th>\n",
       "      <th>Age</th>\n",
       "      <th>Outcome</th>\n",
       "    </tr>\n",
       "  </thead>\n",
       "  <tbody>\n",
       "    <tr>\n",
       "      <th>count</th>\n",
       "      <td>768.000000</td>\n",
       "      <td>768.000000</td>\n",
       "      <td>768.000000</td>\n",
       "      <td>768.000000</td>\n",
       "      <td>768.000000</td>\n",
       "      <td>768.000000</td>\n",
       "      <td>768.000000</td>\n",
       "      <td>768.000000</td>\n",
       "      <td>768.000000</td>\n",
       "    </tr>\n",
       "    <tr>\n",
       "      <th>mean</th>\n",
       "      <td>3.845052</td>\n",
       "      <td>120.894531</td>\n",
       "      <td>69.105469</td>\n",
       "      <td>20.536458</td>\n",
       "      <td>79.799479</td>\n",
       "      <td>31.992578</td>\n",
       "      <td>0.471876</td>\n",
       "      <td>33.240885</td>\n",
       "      <td>0.348958</td>\n",
       "    </tr>\n",
       "    <tr>\n",
       "      <th>std</th>\n",
       "      <td>3.369578</td>\n",
       "      <td>31.972618</td>\n",
       "      <td>19.355807</td>\n",
       "      <td>15.952218</td>\n",
       "      <td>115.244002</td>\n",
       "      <td>7.884160</td>\n",
       "      <td>0.331329</td>\n",
       "      <td>11.760232</td>\n",
       "      <td>0.476951</td>\n",
       "    </tr>\n",
       "    <tr>\n",
       "      <th>min</th>\n",
       "      <td>0.000000</td>\n",
       "      <td>0.000000</td>\n",
       "      <td>0.000000</td>\n",
       "      <td>0.000000</td>\n",
       "      <td>0.000000</td>\n",
       "      <td>0.000000</td>\n",
       "      <td>0.078000</td>\n",
       "      <td>21.000000</td>\n",
       "      <td>0.000000</td>\n",
       "    </tr>\n",
       "    <tr>\n",
       "      <th>25%</th>\n",
       "      <td>1.000000</td>\n",
       "      <td>99.000000</td>\n",
       "      <td>62.000000</td>\n",
       "      <td>0.000000</td>\n",
       "      <td>0.000000</td>\n",
       "      <td>27.300000</td>\n",
       "      <td>0.243750</td>\n",
       "      <td>24.000000</td>\n",
       "      <td>0.000000</td>\n",
       "    </tr>\n",
       "    <tr>\n",
       "      <th>50%</th>\n",
       "      <td>3.000000</td>\n",
       "      <td>117.000000</td>\n",
       "      <td>72.000000</td>\n",
       "      <td>23.000000</td>\n",
       "      <td>30.500000</td>\n",
       "      <td>32.000000</td>\n",
       "      <td>0.372500</td>\n",
       "      <td>29.000000</td>\n",
       "      <td>0.000000</td>\n",
       "    </tr>\n",
       "    <tr>\n",
       "      <th>75%</th>\n",
       "      <td>6.000000</td>\n",
       "      <td>140.250000</td>\n",
       "      <td>80.000000</td>\n",
       "      <td>32.000000</td>\n",
       "      <td>127.250000</td>\n",
       "      <td>36.600000</td>\n",
       "      <td>0.626250</td>\n",
       "      <td>41.000000</td>\n",
       "      <td>1.000000</td>\n",
       "    </tr>\n",
       "    <tr>\n",
       "      <th>max</th>\n",
       "      <td>17.000000</td>\n",
       "      <td>199.000000</td>\n",
       "      <td>122.000000</td>\n",
       "      <td>99.000000</td>\n",
       "      <td>846.000000</td>\n",
       "      <td>67.100000</td>\n",
       "      <td>2.420000</td>\n",
       "      <td>81.000000</td>\n",
       "      <td>1.000000</td>\n",
       "    </tr>\n",
       "  </tbody>\n",
       "</table>\n",
       "</div>"
      ],
      "text/plain": [
       "       Pregnancies     Glucose  BloodPressure  SkinThickness     Insulin  \\\n",
       "count   768.000000  768.000000     768.000000     768.000000  768.000000   \n",
       "mean      3.845052  120.894531      69.105469      20.536458   79.799479   \n",
       "std       3.369578   31.972618      19.355807      15.952218  115.244002   \n",
       "min       0.000000    0.000000       0.000000       0.000000    0.000000   \n",
       "25%       1.000000   99.000000      62.000000       0.000000    0.000000   \n",
       "50%       3.000000  117.000000      72.000000      23.000000   30.500000   \n",
       "75%       6.000000  140.250000      80.000000      32.000000  127.250000   \n",
       "max      17.000000  199.000000     122.000000      99.000000  846.000000   \n",
       "\n",
       "              BMI  DiabetesPedigreeFunction         Age     Outcome  \n",
       "count  768.000000                768.000000  768.000000  768.000000  \n",
       "mean    31.992578                  0.471876   33.240885    0.348958  \n",
       "std      7.884160                  0.331329   11.760232    0.476951  \n",
       "min      0.000000                  0.078000   21.000000    0.000000  \n",
       "25%     27.300000                  0.243750   24.000000    0.000000  \n",
       "50%     32.000000                  0.372500   29.000000    0.000000  \n",
       "75%     36.600000                  0.626250   41.000000    1.000000  \n",
       "max     67.100000                  2.420000   81.000000    1.000000  "
      ]
     },
     "execution_count": 8,
     "metadata": {},
     "output_type": "execute_result"
    }
   ],
   "source": [
    "df.describe()"
   ]
  },
  {
   "cell_type": "code",
   "execution_count": 9,
   "id": "eff2479b-e1af-4cfd-b3ea-968f17928b6c",
   "metadata": {},
   "outputs": [],
   "source": [
    "#If we observe above in the min the minumum values of some parameters are 0.0000 like for gulcose,bloodpressure etc...\n",
    "#so, we replace those values with mean of its column..\n",
    "df['Glucose'] = df['Glucose'].replace(0,df['Glucose'].mean())\n",
    "df['BloodPressure'] = df['BloodPressure'].replace(0,df['BloodPressure'].mean())\n",
    "df['SkinThickness'] = df['SkinThickness'].replace(0,df['SkinThickness'].mean())\n",
    "df['Insulin'] = df['Insulin'].replace(0,df['Insulin'].mean())\n",
    "df['BMI'] = df['BMI'].replace(0,df['BMI'].mean())"
   ]
  },
  {
   "cell_type": "code",
   "execution_count": 10,
   "id": "66227ebf-f1df-493a-8995-92e0319dfa80",
   "metadata": {},
   "outputs": [
    {
     "data": {
      "text/html": [
       "<div>\n",
       "<style scoped>\n",
       "    .dataframe tbody tr th:only-of-type {\n",
       "        vertical-align: middle;\n",
       "    }\n",
       "\n",
       "    .dataframe tbody tr th {\n",
       "        vertical-align: top;\n",
       "    }\n",
       "\n",
       "    .dataframe thead th {\n",
       "        text-align: right;\n",
       "    }\n",
       "</style>\n",
       "<table border=\"1\" class=\"dataframe\">\n",
       "  <thead>\n",
       "    <tr style=\"text-align: right;\">\n",
       "      <th></th>\n",
       "      <th>Pregnancies</th>\n",
       "      <th>Glucose</th>\n",
       "      <th>BloodPressure</th>\n",
       "      <th>SkinThickness</th>\n",
       "      <th>Insulin</th>\n",
       "      <th>BMI</th>\n",
       "      <th>DiabetesPedigreeFunction</th>\n",
       "      <th>Age</th>\n",
       "      <th>Outcome</th>\n",
       "    </tr>\n",
       "  </thead>\n",
       "  <tbody>\n",
       "    <tr>\n",
       "      <th>count</th>\n",
       "      <td>768.000000</td>\n",
       "      <td>768.000000</td>\n",
       "      <td>768.000000</td>\n",
       "      <td>768.000000</td>\n",
       "      <td>768.000000</td>\n",
       "      <td>768.000000</td>\n",
       "      <td>768.000000</td>\n",
       "      <td>768.000000</td>\n",
       "      <td>768.000000</td>\n",
       "    </tr>\n",
       "    <tr>\n",
       "      <th>mean</th>\n",
       "      <td>3.845052</td>\n",
       "      <td>121.681605</td>\n",
       "      <td>72.254807</td>\n",
       "      <td>26.606479</td>\n",
       "      <td>118.660163</td>\n",
       "      <td>32.450805</td>\n",
       "      <td>0.471876</td>\n",
       "      <td>33.240885</td>\n",
       "      <td>0.348958</td>\n",
       "    </tr>\n",
       "    <tr>\n",
       "      <th>std</th>\n",
       "      <td>3.369578</td>\n",
       "      <td>30.436016</td>\n",
       "      <td>12.115932</td>\n",
       "      <td>9.631241</td>\n",
       "      <td>93.080358</td>\n",
       "      <td>6.875374</td>\n",
       "      <td>0.331329</td>\n",
       "      <td>11.760232</td>\n",
       "      <td>0.476951</td>\n",
       "    </tr>\n",
       "    <tr>\n",
       "      <th>min</th>\n",
       "      <td>0.000000</td>\n",
       "      <td>44.000000</td>\n",
       "      <td>24.000000</td>\n",
       "      <td>7.000000</td>\n",
       "      <td>14.000000</td>\n",
       "      <td>18.200000</td>\n",
       "      <td>0.078000</td>\n",
       "      <td>21.000000</td>\n",
       "      <td>0.000000</td>\n",
       "    </tr>\n",
       "    <tr>\n",
       "      <th>25%</th>\n",
       "      <td>1.000000</td>\n",
       "      <td>99.750000</td>\n",
       "      <td>64.000000</td>\n",
       "      <td>20.536458</td>\n",
       "      <td>79.799479</td>\n",
       "      <td>27.500000</td>\n",
       "      <td>0.243750</td>\n",
       "      <td>24.000000</td>\n",
       "      <td>0.000000</td>\n",
       "    </tr>\n",
       "    <tr>\n",
       "      <th>50%</th>\n",
       "      <td>3.000000</td>\n",
       "      <td>117.000000</td>\n",
       "      <td>72.000000</td>\n",
       "      <td>23.000000</td>\n",
       "      <td>79.799479</td>\n",
       "      <td>32.000000</td>\n",
       "      <td>0.372500</td>\n",
       "      <td>29.000000</td>\n",
       "      <td>0.000000</td>\n",
       "    </tr>\n",
       "    <tr>\n",
       "      <th>75%</th>\n",
       "      <td>6.000000</td>\n",
       "      <td>140.250000</td>\n",
       "      <td>80.000000</td>\n",
       "      <td>32.000000</td>\n",
       "      <td>127.250000</td>\n",
       "      <td>36.600000</td>\n",
       "      <td>0.626250</td>\n",
       "      <td>41.000000</td>\n",
       "      <td>1.000000</td>\n",
       "    </tr>\n",
       "    <tr>\n",
       "      <th>max</th>\n",
       "      <td>17.000000</td>\n",
       "      <td>199.000000</td>\n",
       "      <td>122.000000</td>\n",
       "      <td>99.000000</td>\n",
       "      <td>846.000000</td>\n",
       "      <td>67.100000</td>\n",
       "      <td>2.420000</td>\n",
       "      <td>81.000000</td>\n",
       "      <td>1.000000</td>\n",
       "    </tr>\n",
       "  </tbody>\n",
       "</table>\n",
       "</div>"
      ],
      "text/plain": [
       "       Pregnancies     Glucose  BloodPressure  SkinThickness     Insulin  \\\n",
       "count   768.000000  768.000000     768.000000     768.000000  768.000000   \n",
       "mean      3.845052  121.681605      72.254807      26.606479  118.660163   \n",
       "std       3.369578   30.436016      12.115932       9.631241   93.080358   \n",
       "min       0.000000   44.000000      24.000000       7.000000   14.000000   \n",
       "25%       1.000000   99.750000      64.000000      20.536458   79.799479   \n",
       "50%       3.000000  117.000000      72.000000      23.000000   79.799479   \n",
       "75%       6.000000  140.250000      80.000000      32.000000  127.250000   \n",
       "max      17.000000  199.000000     122.000000      99.000000  846.000000   \n",
       "\n",
       "              BMI  DiabetesPedigreeFunction         Age     Outcome  \n",
       "count  768.000000                768.000000  768.000000  768.000000  \n",
       "mean    32.450805                  0.471876   33.240885    0.348958  \n",
       "std      6.875374                  0.331329   11.760232    0.476951  \n",
       "min     18.200000                  0.078000   21.000000    0.000000  \n",
       "25%     27.500000                  0.243750   24.000000    0.000000  \n",
       "50%     32.000000                  0.372500   29.000000    0.000000  \n",
       "75%     36.600000                  0.626250   41.000000    1.000000  \n",
       "max     67.100000                  2.420000   81.000000    1.000000  "
      ]
     },
     "execution_count": 10,
     "metadata": {},
     "output_type": "execute_result"
    }
   ],
   "source": [
    "df.describe()"
   ]
  },
  {
   "cell_type": "code",
   "execution_count": 11,
   "id": "aa643ac1-2257-45ce-83dc-484effe6d02b",
   "metadata": {},
   "outputs": [
    {
     "data": {
      "text/plain": [
       "<AxesSubplot: >"
      ]
     },
     "execution_count": 11,
     "metadata": {},
     "output_type": "execute_result"
    },
    {
     "data": {
      "image/png": "[encoded data removed]",
      "text/plain": [
       "<Figure size 1500x900 with 1 Axes>"
      ]
     },
     "metadata": {},
     "output_type": "display_data"
    }
   ],
   "source": [
    "plt.figure(figsize=(15,9))\n",
    "sns.boxplot(data = df,width = 0.90)"
   ]
  },
  {
   "cell_type": "code",
   "execution_count": 12,
   "id": "3a85ac6f-fd73-48e3-8b9a-010640105b9f",
   "metadata": {},
   "outputs": [
    {
     "data": {
      "text/plain": [
       "<AxesSubplot: >"
      ]
     },
     "execution_count": 12,
     "metadata": {},
     "output_type": "execute_result"
    },
    {
     "data": {
      "image/png": "[encoded data removed]",
      "text/plain": [
       "<Figure size 640x480 with 2 Axes>"
      ]
     },
     "metadata": {},
     "output_type": "display_data"
    }
   ],
   "source": [
    "sns.heatmap(df.corr(),annot = True)"
   ]
  },
  {
   "cell_type": "code",
   "execution_count": 13,
   "id": "d6fe7c6e-a87f-4613-9901-ade160f6844b",
   "metadata": {},
   "outputs": [
    {
     "data": {
      "text/plain": [
       "0    500\n",
       "1    268\n",
       "Name: Outcome, dtype: int64"
      ]
     },
     "execution_count": 13,
     "metadata": {},
     "output_type": "execute_result"
    }
   ],
   "source": [
    "df[\"Outcome\"].value_counts()"
   ]
  },
  {
   "cell_type": "code",
   "execution_count": 14,
   "id": "6daaa9f7-669b-4c6b-9798-4d12bb7c1f11",
   "metadata": {},
   "outputs": [
    {
     "data": {
      "image/png": "[encoded data removed]",
      "text/plain": [
       "<Figure size 1500x900 with 1 Axes>"
      ]
     },
     "metadata": {},
     "output_type": "display_data"
    }
   ],
   "source": [
    "plt.figure(figsize=(15,9))\n",
    "plt.title(\"Percentage of diabetes and non-diabetes persons in a dataset\")\n",
    "labels = [\"Non-Diabetes\",\"Diabetes\"]\n",
    "x = [((500/768)*100),((268/768)*100)]\n",
    "plt.pie(x,labels =labels, autopct='%1.1f%%')\n",
    "plt.show()"
   ]
  },
  {
   "cell_type": "code",
   "execution_count": 15,
   "id": "44c437d7-d9cf-40f7-9298-83730c585dee",
   "metadata": {},
   "outputs": [],
   "source": [
    "#Independent and dependent features\n",
    "x = df.iloc[:,:-1]\n",
    "y = df.iloc[:,-1]"
   ]
  },
  {
   "cell_type": "code",
   "execution_count": 16,
   "id": "e03a0e00-4f1d-41c2-a5fd-bc80fbc19621",
   "metadata": {},
   "outputs": [
    {
     "data": {
      "text/html": [
       "<div>\n",
       "<style scoped>\n",
       "    .dataframe tbody tr th:only-of-type {\n",
       "        vertical-align: middle;\n",
       "    }\n",
       "\n",
       "    .dataframe tbody tr th {\n",
       "        vertical-align: top;\n",
       "    }\n",
       "\n",
       "    .dataframe thead th {\n",
       "        text-align: right;\n",
       "    }\n",
       "</style>\n",
       "<table border=\"1\" class=\"dataframe\">\n",
       "  <thead>\n",
       "    <tr style=\"text-align: right;\">\n",
       "      <th></th>\n",
       "      <th>Pregnancies</th>\n",
       "      <th>Glucose</th>\n",
       "      <th>BloodPressure</th>\n",
       "      <th>SkinThickness</th>\n",
       "      <th>Insulin</th>\n",
       "      <th>BMI</th>\n",
       "      <th>DiabetesPedigreeFunction</th>\n",
       "      <th>Age</th>\n",
       "    </tr>\n",
       "  </thead>\n",
       "  <tbody>\n",
       "    <tr>\n",
       "      <th>0</th>\n",
       "      <td>6</td>\n",
       "      <td>148.0</td>\n",
       "      <td>72.0</td>\n",
       "      <td>35.000000</td>\n",
       "      <td>79.799479</td>\n",
       "      <td>33.6</td>\n",
       "      <td>0.627</td>\n",
       "      <td>50</td>\n",
       "    </tr>\n",
       "    <tr>\n",
       "      <th>1</th>\n",
       "      <td>1</td>\n",
       "      <td>85.0</td>\n",
       "      <td>66.0</td>\n",
       "      <td>29.000000</td>\n",
       "      <td>79.799479</td>\n",
       "      <td>26.6</td>\n",
       "      <td>0.351</td>\n",
       "      <td>31</td>\n",
       "    </tr>\n",
       "    <tr>\n",
       "      <th>2</th>\n",
       "      <td>8</td>\n",
       "      <td>183.0</td>\n",
       "      <td>64.0</td>\n",
       "      <td>20.536458</td>\n",
       "      <td>79.799479</td>\n",
       "      <td>23.3</td>\n",
       "      <td>0.672</td>\n",
       "      <td>32</td>\n",
       "    </tr>\n",
       "    <tr>\n",
       "      <th>3</th>\n",
       "      <td>1</td>\n",
       "      <td>89.0</td>\n",
       "      <td>66.0</td>\n",
       "      <td>23.000000</td>\n",
       "      <td>94.000000</td>\n",
       "      <td>28.1</td>\n",
       "      <td>0.167</td>\n",
       "      <td>21</td>\n",
       "    </tr>\n",
       "    <tr>\n",
       "      <th>4</th>\n",
       "      <td>0</td>\n",
       "      <td>137.0</td>\n",
       "      <td>40.0</td>\n",
       "      <td>35.000000</td>\n",
       "      <td>168.000000</td>\n",
       "      <td>43.1</td>\n",
       "      <td>2.288</td>\n",
       "      <td>33</td>\n",
       "    </tr>\n",
       "    <tr>\n",
       "      <th>...</th>\n",
       "      <td>...</td>\n",
       "      <td>...</td>\n",
       "      <td>...</td>\n",
       "      <td>...</td>\n",
       "      <td>...</td>\n",
       "      <td>...</td>\n",
       "      <td>...</td>\n",
       "      <td>...</td>\n",
       "    </tr>\n",
       "    <tr>\n",
       "      <th>763</th>\n",
       "      <td>10</td>\n",
       "      <td>101.0</td>\n",
       "      <td>76.0</td>\n",
       "      <td>48.000000</td>\n",
       "      <td>180.000000</td>\n",
       "      <td>32.9</td>\n",
       "      <td>0.171</td>\n",
       "      <td>63</td>\n",
       "    </tr>\n",
       "    <tr>\n",
       "      <th>764</th>\n",
       "      <td>2</td>\n",
       "      <td>122.0</td>\n",
       "      <td>70.0</td>\n",
       "      <td>27.000000</td>\n",
       "      <td>79.799479</td>\n",
       "      <td>36.8</td>\n",
       "      <td>0.340</td>\n",
       "      <td>27</td>\n",
       "    </tr>\n",
       "    <tr>\n",
       "      <th>765</th>\n",
       "      <td>5</td>\n",
       "      <td>121.0</td>\n",
       "      <td>72.0</td>\n",
       "      <td>23.000000</td>\n",
       "      <td>112.000000</td>\n",
       "      <td>26.2</td>\n",
       "      <td>0.245</td>\n",
       "      <td>30</td>\n",
       "    </tr>\n",
       "    <tr>\n",
       "      <th>766</th>\n",
       "      <td>1</td>\n",
       "      <td>126.0</td>\n",
       "      <td>60.0</td>\n",
       "      <td>20.536458</td>\n",
       "      <td>79.799479</td>\n",
       "      <td>30.1</td>\n",
       "      <td>0.349</td>\n",
       "      <td>47</td>\n",
       "    </tr>\n",
       "    <tr>\n",
       "      <th>767</th>\n",
       "      <td>1</td>\n",
       "      <td>93.0</td>\n",
       "      <td>70.0</td>\n",
       "      <td>31.000000</td>\n",
       "      <td>79.799479</td>\n",
       "      <td>30.4</td>\n",
       "      <td>0.315</td>\n",
       "      <td>23</td>\n",
       "    </tr>\n",
       "  </tbody>\n",
       "</table>\n",
       "<p>768 rows × 8 columns</p>\n",
       "</div>"
      ],
      "text/plain": [
       "     Pregnancies  Glucose  BloodPressure  SkinThickness     Insulin   BMI  \\\n",
       "0              6    148.0           72.0      35.000000   79.799479  33.6   \n",
       "1              1     85.0           66.0      29.000000   79.799479  26.6   \n",
       "2              8    183.0           64.0      20.536458   79.799479  23.3   \n",
       "3              1     89.0           66.0      23.000000   94.000000  28.1   \n",
       "4              0    137.0           40.0      35.000000  168.000000  43.1   \n",
       "..           ...      ...            ...            ...         ...   ...   \n",
       "763           10    101.0           76.0      48.000000  180.000000  32.9   \n",
       "764            2    122.0           70.0      27.000000   79.799479  36.8   \n",
       "765            5    121.0           72.0      23.000000  112.000000  26.2   \n",
       "766            1    126.0           60.0      20.536458   79.799479  30.1   \n",
       "767            1     93.0           70.0      31.000000   79.799479  30.4   \n",
       "\n",
       "     DiabetesPedigreeFunction  Age  \n",
       "0                       0.627   50  \n",
       "1                       0.351   31  \n",
       "2                       0.672   32  \n",
       "3                       0.167   21  \n",
       "4                       2.288   33  \n",
       "..                        ...  ...  \n",
       "763                     0.171   63  \n",
       "764                     0.340   27  \n",
       "765                     0.245   30  \n",
       "766                     0.349   47  \n",
       "767                     0.315   23  \n",
       "\n",
       "[768 rows x 8 columns]"
      ]
     },
     "execution_count": 16,
     "metadata": {},
     "output_type": "execute_result"
    }
   ],
   "source": [
    "x"
   ]
  },
  {
   "cell_type": "code",
   "execution_count": 17,
   "id": "d92ad653-b17a-446f-bbc5-514b724a3864",
   "metadata": {},
   "outputs": [
    {
     "data": {
      "text/plain": [
       "0      1\n",
       "1      0\n",
       "2      1\n",
       "3      0\n",
       "4      1\n",
       "      ..\n",
       "763    0\n",
       "764    0\n",
       "765    0\n",
       "766    1\n",
       "767    0\n",
       "Name: Outcome, Length: 768, dtype: int64"
      ]
     },
     "execution_count": 17,
     "metadata": {},
     "output_type": "execute_result"
    }
   ],
   "source": [
    "y"
   ]
  },
  {
   "cell_type": "markdown",
   "id": "646d3329-d2bf-41e1-a844-580ac55f29f3",
   "metadata": {},
   "source": [
    "# Train_test_split"
   ]
  },
  {
   "cell_type": "code",
   "execution_count": 18,
   "id": "8d346171-a9b8-44b5-b14c-6701f39f174b",
   "metadata": {},
   "outputs": [
    {
     "name": "stdout",
     "output_type": "stream",
     "text": [
      "(514, 8)\n",
      "(254, 8)\n",
      "(514,)\n",
      "(254,)\n"
     ]
    }
   ],
   "source": [
    "from sklearn.model_selection import train_test_split\n",
    "x_train,x_test,y_train,y_test = train_test_split(x,y,test_size=0.33,random_state=80)\n",
    "print(x_train.shape)\n",
    "print(x_test.shape)\n",
    "print(y_train.shape)\n",
    "print(y_test.shape)"
   ]
  },
  {
   "cell_type": "markdown",
   "id": "2aac6ddd-3880-405f-aae4-5b6a9021fa4e",
   "metadata": {},
   "source": [
    "# Feature Scaling"
   ]
  },
  {
   "cell_type": "code",
   "execution_count": 19,
   "id": "bbe260b2-6b34-4408-99f3-93bb28c4de0d",
   "metadata": {},
   "outputs": [],
   "source": [
    "from sklearn.preprocessing import StandardScaler\n",
    "scaler = StandardScaler()\n",
    "x_train_scaled = scaler.fit_transform(x_train)\n",
    "x_test_scaled = scaler.transform(x_test)"
   ]
  },
  {
   "cell_type": "markdown",
   "id": "bf50dff2-c47a-42f8-8939-027f04f287eb",
   "metadata": {},
   "source": [
    "# Logistic Regression"
   ]
  },
  {
   "cell_type": "code",
   "execution_count": 20,
   "id": "3d66fd16-9885-4fca-ad09-b7bd2ee4a99a",
   "metadata": {},
   "outputs": [
    {
     "data": {
      "text/html": [
       "<style>#sk-container-id-1 {color: black;background-color: white;}#sk-container-id-1 pre{padding: 0;}#sk-container-id-1 div.sk-toggleable {background-color: white;}#sk-container-id-1 label.sk-toggleable__label {cursor: pointer;display: block;width: 100%;margin-bottom: 0;padding: 0.3em;box-sizing: border-box;text-align: center;}#sk-container-id-1 label.sk-toggleable__label-arrow:before {content: \"▸\";float: left;margin-right: 0.25em;color: #696969;}#sk-container-id-1 label.sk-toggleable__label-arrow:hover:before {color: black;}#sk-container-id-1 div.sk-estimator:hover label.sk-toggleable__label-arrow:before {color: black;}#sk-container-id-1 div.sk-toggleable__content {max-height: 0;max-width: 0;overflow: hidden;text-align: left;background-color: #f0f8ff;}#sk-container-id-1 div.sk-toggleable__content pre {margin: 0.2em;color: black;border-radius: 0.25em;background-color: #f0f8ff;}#sk-container-id-1 input.sk-toggleable__control:checked~div.sk-toggleable__content {max-height: 200px;max-width: 100%;overflow: auto;}#sk-container-id-1 input.sk-toggleable__control:checked~label.sk-toggleable__label-arrow:before {content: \"▾\";}#sk-container-id-1 div.sk-estimator input.sk-toggleable__control:checked~label.sk-toggleable__label {background-color: #d4ebff;}#sk-container-id-1 div.sk-label input.sk-toggleable__control:checked~label.sk-toggleable__label {background-color: #d4ebff;}#sk-container-id-1 input.sk-hidden--visually {border: 0;clip: rect(1px 1px 1px 1px);clip: rect(1px, 1px, 1px, 1px);height: 1px;margin: -1px;overflow: hidden;padding: 0;position: absolute;width: 1px;}#sk-container-id-1 div.sk-estimator {font-family: monospace;background-color: #f0f8ff;border: 1px dotted black;border-radius: 0.25em;box-sizing: border-box;margin-bottom: 0.5em;}#sk-container-id-1 div.sk-estimator:hover {background-color: #d4ebff;}#sk-container-id-1 div.sk-parallel-item::after {content: \"\";width: 100%;border-bottom: 1px solid gray;flex-grow: 1;}#sk-container-id-1 div.sk-label:hover label.sk-toggleable__label {background-color: #d4ebff;}#sk-container-id-1 div.sk-serial::before {content: \"\";position: absolute;border-left: 1px solid gray;box-sizing: border-box;top: 0;bottom: 0;left: 50%;z-index: 0;}#sk-container-id-1 div.sk-serial {display: flex;flex-direction: column;align-items: center;background-color: white;padding-right: 0.2em;padding-left: 0.2em;position: relative;}#sk-container-id-1 div.sk-item {position: relative;z-index: 1;}#sk-container-id-1 div.sk-parallel {display: flex;align-items: stretch;justify-content: center;background-color: white;position: relative;}#sk-container-id-1 div.sk-item::before, #sk-container-id-1 div.sk-parallel-item::before {content: \"\";position: absolute;border-left: 1px solid gray;box-sizing: border-box;top: 0;bottom: 0;left: 50%;z-index: -1;}#sk-container-id-1 div.sk-parallel-item {display: flex;flex-direction: column;z-index: 1;position: relative;background-color: white;}#sk-container-id-1 div.sk-parallel-item:first-child::after {align-self: flex-end;width: 50%;}#sk-container-id-1 div.sk-parallel-item:last-child::after {align-self: flex-start;width: 50%;}#sk-container-id-1 div.sk-parallel-item:only-child::after {width: 0;}#sk-container-id-1 div.sk-dashed-wrapped {border: 1px dashed gray;margin: 0 0.4em 0.5em 0.4em;box-sizing: border-box;padding-bottom: 0.4em;background-color: white;}#sk-container-id-1 div.sk-label label {font-family: monospace;font-weight: bold;display: inline-block;line-height: 1.2em;}#sk-container-id-1 div.sk-label-container {text-align: center;}#sk-container-id-1 div.sk-container {/* jupyter's `normalize.less` sets `[hidden] { display: none; }` but bootstrap.min.css set `[hidden] { display: none !important; }` so we also need the `!important` here to be able to override the default hidden behavior on the sphinx rendered scikit-learn.org. See: https://github.com/scikit-learn/scikit-learn/issues/21755 */display: inline-block !important;position: relative;}#sk-container-id-1 div.sk-text-repr-fallback {display: none;}</style><div id=\"sk-container-id-1\" class=\"sk-top-container\"><div class=\"sk-text-repr-fallback\"><pre>LogisticRegression()</pre><b>In a Jupyter environment, please rerun this cell to show the HTML representation or trust the notebook. <br />On GitHub, the HTML representation is unable to render, please try loading this page with nbviewer.org.</b></div><div class=\"sk-container\" hidden><div class=\"sk-item\"><div class=\"sk-estimator sk-toggleable\"><input class=\"sk-toggleable__control sk-hidden--visually\" id=\"sk-estimator-id-1\" type=\"checkbox\" checked><label for=\"sk-estimator-id-1\" class=\"sk-toggleable__label sk-toggleable__label-arrow\">LogisticRegression</label><div class=\"sk-toggleable__content\"><pre>LogisticRegression()</pre></div></div></div></div></div>"
      ],
      "text/plain": [
       "LogisticRegression()"
      ]
     },
     "execution_count": 20,
     "metadata": {},
     "output_type": "execute_result"
    }
   ],
   "source": [
    "from sklearn.linear_model import LogisticRegression\n",
    "from sklearn.metrics import accuracy_score,classification_report,confusion_matrix\n",
    "regressor = LogisticRegression()\n",
    "regressor.fit(x_train_scaled,y_train)"
   ]
  },
  {
   "cell_type": "code",
   "execution_count": 21,
   "id": "b9b80a41-7a24-4d5d-afb0-2893ee60dbec",
   "metadata": {},
   "outputs": [
    {
     "name": "stdout",
     "output_type": "stream",
     "text": [
      "0.7677165354330708\n",
      "[[146  38]\n",
      " [ 21  49]]\n",
      "              precision    recall  f1-score   support\n",
      "\n",
      "           0       0.87      0.79      0.83       184\n",
      "           1       0.56      0.70      0.62        70\n",
      "\n",
      "    accuracy                           0.77       254\n",
      "   macro avg       0.72      0.75      0.73       254\n",
      "weighted avg       0.79      0.77      0.77       254\n",
      "\n"
     ]
    }
   ],
   "source": [
    "y_pred = regressor.predict(x_test_scaled)\n",
    "print(accuracy_score(y_pred,y_test))\n",
    "print(confusion_matrix(y_pred,y_test))\n",
    "print(classification_report(y_pred,y_test))"
   ]
  },
  {
   "cell_type": "code",
   "execution_count": 22,
   "id": "8457603c-f3b5-470f-a9ea-b8e8af325d2e",
   "metadata": {},
   "outputs": [],
   "source": [
    "# Hyperparameter tuning\n",
    "parameters= {\n",
    "   'penalty' : ['l1', 'l2', 'elasticnet'],\n",
    "    'C' : [1,10,20],\n",
    "    'solver':['lbfgs', 'liblinear', 'newton-cg', 'newton-cholesky', 'sag', 'saga']\n",
    "    }"
   ]
  },
  {
   "cell_type": "code",
   "execution_count": 23,
   "id": "35673391-3781-4007-8b1a-75b701cf54ac",
   "metadata": {},
   "outputs": [
    {
     "data": {
      "text/html": [
       "<style>#sk-container-id-2 {color: black;background-color: white;}#sk-container-id-2 pre{padding: 0;}#sk-container-id-2 div.sk-toggleable {background-color: white;}#sk-container-id-2 label.sk-toggleable__label {cursor: pointer;display: block;width: 100%;margin-bottom: 0;padding: 0.3em;box-sizing: border-box;text-align: center;}#sk-container-id-2 label.sk-toggleable__label-arrow:before {content: \"▸\";float: left;margin-right: 0.25em;color: #696969;}#sk-container-id-2 label.sk-toggleable__label-arrow:hover:before {color: black;}#sk-container-id-2 div.sk-estimator:hover label.sk-toggleable__label-arrow:before {color: black;}#sk-container-id-2 div.sk-toggleable__content {max-height: 0;max-width: 0;overflow: hidden;text-align: left;background-color: #f0f8ff;}#sk-container-id-2 div.sk-toggleable__content pre {margin: 0.2em;color: black;border-radius: 0.25em;background-color: #f0f8ff;}#sk-container-id-2 input.sk-toggleable__control:checked~div.sk-toggleable__content {max-height: 200px;max-width: 100%;overflow: auto;}#sk-container-id-2 input.sk-toggleable__control:checked~label.sk-toggleable__label-arrow:before {content: \"▾\";}#sk-container-id-2 div.sk-estimator input.sk-toggleable__control:checked~label.sk-toggleable__label {background-color: #d4ebff;}#sk-container-id-2 div.sk-label input.sk-toggleable__control:checked~label.sk-toggleable__label {background-color: #d4ebff;}#sk-container-id-2 input.sk-hidden--visually {border: 0;clip: rect(1px 1px 1px 1px);clip: rect(1px, 1px, 1px, 1px);height: 1px;margin: -1px;overflow: hidden;padding: 0;position: absolute;width: 1px;}#sk-container-id-2 div.sk-estimator {font-family: monospace;background-color: #f0f8ff;border: 1px dotted black;border-radius: 0.25em;box-sizing: border-box;margin-bottom: 0.5em;}#sk-container-id-2 div.sk-estimator:hover {background-color: #d4ebff;}#sk-container-id-2 div.sk-parallel-item::after {content: \"\";width: 100%;border-bottom: 1px solid gray;flex-grow: 1;}#sk-container-id-2 div.sk-label:hover label.sk-toggleable__label {background-color: #d4ebff;}#sk-container-id-2 div.sk-serial::before {content: \"\";position: absolute;border-left: 1px solid gray;box-sizing: border-box;top: 0;bottom: 0;left: 50%;z-index: 0;}#sk-container-id-2 div.sk-serial {display: flex;flex-direction: column;align-items: center;background-color: white;padding-right: 0.2em;padding-left: 0.2em;position: relative;}#sk-container-id-2 div.sk-item {position: relative;z-index: 1;}#sk-container-id-2 div.sk-parallel {display: flex;align-items: stretch;justify-content: center;background-color: white;position: relative;}#sk-container-id-2 div.sk-item::before, #sk-container-id-2 div.sk-parallel-item::before {content: \"\";position: absolute;border-left: 1px solid gray;box-sizing: border-box;top: 0;bottom: 0;left: 50%;z-index: -1;}#sk-container-id-2 div.sk-parallel-item {display: flex;flex-direction: column;z-index: 1;position: relative;background-color: white;}#sk-container-id-2 div.sk-parallel-item:first-child::after {align-self: flex-end;width: 50%;}#sk-container-id-2 div.sk-parallel-item:last-child::after {align-self: flex-start;width: 50%;}#sk-container-id-2 div.sk-parallel-item:only-child::after {width: 0;}#sk-container-id-2 div.sk-dashed-wrapped {border: 1px dashed gray;margin: 0 0.4em 0.5em 0.4em;box-sizing: border-box;padding-bottom: 0.4em;background-color: white;}#sk-container-id-2 div.sk-label label {font-family: monospace;font-weight: bold;display: inline-block;line-height: 1.2em;}#sk-container-id-2 div.sk-label-container {text-align: center;}#sk-container-id-2 div.sk-container {/* jupyter's `normalize.less` sets `[hidden] { display: none; }` but bootstrap.min.css set `[hidden] { display: none !important; }` so we also need the `!important` here to be able to override the default hidden behavior on the sphinx rendered scikit-learn.org. See: https://github.com/scikit-learn/scikit-learn/issues/21755 */display: inline-block !important;position: relative;}#sk-container-id-2 div.sk-text-repr-fallback {display: none;}</style><div id=\"sk-container-id-2\" class=\"sk-top-container\"><div class=\"sk-text-repr-fallback\"><pre>GridSearchCV(cv=5, estimator=LogisticRegression(),\n",
       "             param_grid={&#x27;C&#x27;: [1, 10, 20],\n",
       "                         &#x27;penalty&#x27;: [&#x27;l1&#x27;, &#x27;l2&#x27;, &#x27;elasticnet&#x27;],\n",
       "                         &#x27;solver&#x27;: [&#x27;lbfgs&#x27;, &#x27;liblinear&#x27;, &#x27;newton-cg&#x27;,\n",
       "                                    &#x27;newton-cholesky&#x27;, &#x27;sag&#x27;, &#x27;saga&#x27;]},\n",
       "             scoring=&#x27;accuracy&#x27;)</pre><b>In a Jupyter environment, please rerun this cell to show the HTML representation or trust the notebook. <br />On GitHub, the HTML representation is unable to render, please try loading this page with nbviewer.org.</b></div><div class=\"sk-container\" hidden><div class=\"sk-item sk-dashed-wrapped\"><div class=\"sk-label-container\"><div class=\"sk-label sk-toggleable\"><input class=\"sk-toggleable__control sk-hidden--visually\" id=\"sk-estimator-id-2\" type=\"checkbox\" ><label for=\"sk-estimator-id-2\" class=\"sk-toggleable__label sk-toggleable__label-arrow\">GridSearchCV</label><div class=\"sk-toggleable__content\"><pre>GridSearchCV(cv=5, estimator=LogisticRegression(),\n",
       "             param_grid={&#x27;C&#x27;: [1, 10, 20],\n",
       "                         &#x27;penalty&#x27;: [&#x27;l1&#x27;, &#x27;l2&#x27;, &#x27;elasticnet&#x27;],\n",
       "                         &#x27;solver&#x27;: [&#x27;lbfgs&#x27;, &#x27;liblinear&#x27;, &#x27;newton-cg&#x27;,\n",
       "                                    &#x27;newton-cholesky&#x27;, &#x27;sag&#x27;, &#x27;saga&#x27;]},\n",
       "             scoring=&#x27;accuracy&#x27;)</pre></div></div></div><div class=\"sk-parallel\"><div class=\"sk-parallel-item\"><div class=\"sk-item\"><div class=\"sk-label-container\"><div class=\"sk-label sk-toggleable\"><input class=\"sk-toggleable__control sk-hidden--visually\" id=\"sk-estimator-id-3\" type=\"checkbox\" ><label for=\"sk-estimator-id-3\" class=\"sk-toggleable__label sk-toggleable__label-arrow\">estimator: LogisticRegression</label><div class=\"sk-toggleable__content\"><pre>LogisticRegression()</pre></div></div></div><div class=\"sk-serial\"><div class=\"sk-item\"><div class=\"sk-estimator sk-toggleable\"><input class=\"sk-toggleable__control sk-hidden--visually\" id=\"sk-estimator-id-4\" type=\"checkbox\" ><label for=\"sk-estimator-id-4\" class=\"sk-toggleable__label sk-toggleable__label-arrow\">LogisticRegression</label><div class=\"sk-toggleable__content\"><pre>LogisticRegression()</pre></div></div></div></div></div></div></div></div></div></div>"
      ],
      "text/plain": [
       "GridSearchCV(cv=5, estimator=LogisticRegression(),\n",
       "             param_grid={'C': [1, 10, 20],\n",
       "                         'penalty': ['l1', 'l2', 'elasticnet'],\n",
       "                         'solver': ['lbfgs', 'liblinear', 'newton-cg',\n",
       "                                    'newton-cholesky', 'sag', 'saga']},\n",
       "             scoring='accuracy')"
      ]
     },
     "execution_count": 23,
     "metadata": {},
     "output_type": "execute_result"
    }
   ],
   "source": [
    "from sklearn.model_selection import GridSearchCV\n",
    "regressor = LogisticRegression()\n",
    "regressor_cv = GridSearchCV(regressor,param_grid=parameters,cv=5,scoring='accuracy')\n",
    "regressor_cv.fit(x_train_scaled,y_train)"
   ]
  },
  {
   "cell_type": "code",
   "execution_count": 24,
   "id": "8df280a1-0e4a-41a3-9949-11f3afeb5ce0",
   "metadata": {},
   "outputs": [
    {
     "data": {
      "text/plain": [
       "{'C': 1, 'penalty': 'l1', 'solver': 'liblinear'}"
      ]
     },
     "execution_count": 24,
     "metadata": {},
     "output_type": "execute_result"
    }
   ],
   "source": [
    "regressor_cv.best_params_"
   ]
  },
  {
   "cell_type": "code",
   "execution_count": 25,
   "id": "8b6d1fe1-771d-4d69-b180-c2bc46b7624f",
   "metadata": {},
   "outputs": [
    {
     "name": "stdout",
     "output_type": "stream",
     "text": [
      "0.7637795275590551\n",
      "[[145  38]\n",
      " [ 22  49]]\n",
      "              precision    recall  f1-score   support\n",
      "\n",
      "           0       0.87      0.79      0.83       183\n",
      "           1       0.56      0.69      0.62        71\n",
      "\n",
      "    accuracy                           0.76       254\n",
      "   macro avg       0.72      0.74      0.72       254\n",
      "weighted avg       0.78      0.76      0.77       254\n",
      "\n"
     ]
    }
   ],
   "source": [
    "regressor1 = LogisticRegression(C = 1,penalty='l1',solver='liblinear')\n",
    "regressor1.fit(x_train_scaled,y_train)\n",
    "y_pred1 = regressor1.predict(x_test_scaled)\n",
    "print(accuracy_score(y_pred1,y_test))\n",
    "print(confusion_matrix(y_pred1,y_test))\n",
    "print(classification_report(y_pred1,y_test))"
   ]
  },
  {
   "cell_type": "code",
   "execution_count": 26,
   "id": "02cf165a-5290-4646-b218-d0680f20b778",
   "metadata": {},
   "outputs": [
    {
     "name": "stdout",
     "output_type": "stream",
     "text": [
      "Fitting 10 folds for each of 10 candidates, totalling 100 fits\n",
      "[CV 1/10] END .....C=20, penalty=l2, solver=sag;, score=0.750 total time=   0.0s\n",
      "[CV 2/10] END .....C=20, penalty=l2, solver=sag;, score=0.750 total time=   0.0s\n",
      "[CV 3/10] END .....C=20, penalty=l2, solver=sag;, score=0.769 total time=   0.0s\n",
      "[CV 4/10] END .....C=20, penalty=l2, solver=sag;, score=0.808 total time=   0.0s\n",
      "[CV 5/10] END .....C=20, penalty=l2, solver=sag;, score=0.667 total time=   0.0s\n",
      "[CV 6/10] END .....C=20, penalty=l2, solver=sag;, score=0.745 total time=   0.0s\n",
      "[CV 7/10] END .....C=20, penalty=l2, solver=sag;, score=0.627 total time=   0.0s\n",
      "[CV 8/10] END .....C=20, penalty=l2, solver=sag;, score=0.882 total time=   0.0s\n",
      "[CV 9/10] END .....C=20, penalty=l2, solver=sag;, score=0.824 total time=   0.0s\n",
      "[CV 10/10] END ....C=20, penalty=l2, solver=sag;, score=0.902 total time=   0.0s\n",
      "[CV 1/10] END C=20, penalty=elasticnet, solver=lbfgs;, score=nan total time=   0.0s\n",
      "[CV 2/10] END C=20, penalty=elasticnet, solver=lbfgs;, score=nan total time=   0.0s\n",
      "[CV 3/10] END C=20, penalty=elasticnet, solver=lbfgs;, score=nan total time=   0.0s\n",
      "[CV 4/10] END C=20, penalty=elasticnet, solver=lbfgs;, score=nan total time=   0.0s\n",
      "[CV 5/10] END C=20, penalty=elasticnet, solver=lbfgs;, score=nan total time=   0.0s\n",
      "[CV 6/10] END C=20, penalty=elasticnet, solver=lbfgs;, score=nan total time=   0.0s\n",
      "[CV 7/10] END C=20, penalty=elasticnet, solver=lbfgs;, score=nan total time=   0.0s\n",
      "[CV 8/10] END C=20, penalty=elasticnet, solver=lbfgs;, score=nan total time=   0.0s\n",
      "[CV 9/10] END C=20, penalty=elasticnet, solver=lbfgs;, score=nan total time=   0.0s\n",
      "[CV 10/10] END C=20, penalty=elasticnet, solver=lbfgs;, score=nan total time=   0.0s\n",
      "[CV 1/10] END ....C=20, penalty=l1, solver=saga;, score=0.750 total time=   0.0s\n",
      "[CV 2/10] END ....C=20, penalty=l1, solver=saga;, score=0.750 total time=   0.0s\n",
      "[CV 3/10] END ....C=20, penalty=l1, solver=saga;, score=0.769 total time=   0.0s\n",
      "[CV 4/10] END ....C=20, penalty=l1, solver=saga;, score=0.788 total time=   0.0s\n",
      "[CV 5/10] END ....C=20, penalty=l1, solver=saga;, score=0.667 total time=   0.0s\n",
      "[CV 6/10] END ....C=20, penalty=l1, solver=saga;, score=0.745 total time=   0.0s\n",
      "[CV 7/10] END ....C=20, penalty=l1, solver=saga;, score=0.627 total time=   0.0s\n",
      "[CV 8/10] END ....C=20, penalty=l1, solver=saga;, score=0.882 total time=   0.0s\n",
      "[CV 9/10] END ....C=20, penalty=l1, solver=saga;, score=0.824 total time=   0.0s\n",
      "[CV 10/10] END ...C=20, penalty=l1, solver=saga;, score=0.902 total time=   0.0s\n",
      "[CV 1/10] END .....C=10, penalty=l2, solver=sag;, score=0.750 total time=   0.0s\n",
      "[CV 2/10] END .....C=10, penalty=l2, solver=sag;, score=0.750 total time=   0.0s\n",
      "[CV 3/10] END .....C=10, penalty=l2, solver=sag;, score=0.769 total time=   0.0s\n",
      "[CV 4/10] END .....C=10, penalty=l2, solver=sag;, score=0.808 total time=   0.0s\n",
      "[CV 5/10] END .....C=10, penalty=l2, solver=sag;, score=0.667 total time=   0.0s\n",
      "[CV 6/10] END .....C=10, penalty=l2, solver=sag;, score=0.745 total time=   0.0s\n",
      "[CV 7/10] END .....C=10, penalty=l2, solver=sag;, score=0.627 total time=   0.0s\n",
      "[CV 8/10] END .....C=10, penalty=l2, solver=sag;, score=0.882 total time=   0.0s\n",
      "[CV 9/10] END .....C=10, penalty=l2, solver=sag;, score=0.824 total time=   0.0s\n",
      "[CV 10/10] END ....C=10, penalty=l2, solver=sag;, score=0.902 total time=   0.0s\n",
      "[CV 1/10] END C=1, penalty=l2, solver=newton-cholesky;, score=0.750 total time=   0.0s\n",
      "[CV 2/10] END C=1, penalty=l2, solver=newton-cholesky;, score=0.750 total time=   0.0s\n",
      "[CV 3/10] END C=1, penalty=l2, solver=newton-cholesky;, score=0.769 total time=   0.0s\n",
      "[CV 4/10] END C=1, penalty=l2, solver=newton-cholesky;, score=0.788 total time=   0.0s\n",
      "[CV 5/10] END C=1, penalty=l2, solver=newton-cholesky;, score=0.667 total time=   0.0s\n",
      "[CV 6/10] END C=1, penalty=l2, solver=newton-cholesky;, score=0.745 total time=   0.0s\n",
      "[CV 7/10] END C=1, penalty=l2, solver=newton-cholesky;, score=0.627 total time=   0.0s\n",
      "[CV 8/10] END C=1, penalty=l2, solver=newton-cholesky;, score=0.882 total time=   0.0s\n",
      "[CV 9/10] END C=1, penalty=l2, solver=newton-cholesky;, score=0.824 total time=   0.0s\n",
      "[CV 10/10] END C=1, penalty=l2, solver=newton-cholesky;, score=0.902 total time=   0.0s\n",
      "[CV 1/10] END C=10, penalty=elasticnet, solver=sag;, score=nan total time=   0.0s\n",
      "[CV 2/10] END C=10, penalty=elasticnet, solver=sag;, score=nan total time=   0.0s\n",
      "[CV 3/10] END C=10, penalty=elasticnet, solver=sag;, score=nan total time=   0.0s\n",
      "[CV 4/10] END C=10, penalty=elasticnet, solver=sag;, score=nan total time=   0.0s\n",
      "[CV 5/10] END C=10, penalty=elasticnet, solver=sag;, score=nan total time=   0.0s\n",
      "[CV 6/10] END C=10, penalty=elasticnet, solver=sag;, score=nan total time=   0.0s\n",
      "[CV 7/10] END C=10, penalty=elasticnet, solver=sag;, score=nan total time=   0.0s\n",
      "[CV 8/10] END C=10, penalty=elasticnet, solver=sag;, score=nan total time=   0.0s\n",
      "[CV 9/10] END C=10, penalty=elasticnet, solver=sag;, score=nan total time=   0.0s\n",
      "[CV 10/10] END C=10, penalty=elasticnet, solver=sag;, score=nan total time=   0.0s\n",
      "[CV 1/10] END .....C=1, penalty=l2, solver=saga;, score=0.750 total time=   0.0s\n",
      "[CV 2/10] END .....C=1, penalty=l2, solver=saga;, score=0.750 total time=   0.0s\n",
      "[CV 3/10] END .....C=1, penalty=l2, solver=saga;, score=0.769 total time=   0.0s\n",
      "[CV 4/10] END .....C=1, penalty=l2, solver=saga;, score=0.788 total time=   0.0s\n",
      "[CV 5/10] END .....C=1, penalty=l2, solver=saga;, score=0.667 total time=   0.0s\n",
      "[CV 6/10] END .....C=1, penalty=l2, solver=saga;, score=0.745 total time=   0.0s\n",
      "[CV 7/10] END .....C=1, penalty=l2, solver=saga;, score=0.627 total time=   0.0s\n",
      "[CV 8/10] END .....C=1, penalty=l2, solver=saga;, score=0.882 total time=   0.0s\n",
      "[CV 9/10] END .....C=1, penalty=l2, solver=saga;, score=0.824 total time=   0.0s\n",
      "[CV 10/10] END ....C=1, penalty=l2, solver=saga;, score=0.902 total time=   0.0s\n",
      "[CV 1/10] END C=20, penalty=elasticnet, solver=newton-cholesky;, score=nan total time=   0.0s\n",
      "[CV 2/10] END C=20, penalty=elasticnet, solver=newton-cholesky;, score=nan total time=   0.0s\n",
      "[CV 3/10] END C=20, penalty=elasticnet, solver=newton-cholesky;, score=nan total time=   0.0s\n",
      "[CV 4/10] END C=20, penalty=elasticnet, solver=newton-cholesky;, score=nan total time=   0.0s\n",
      "[CV 5/10] END C=20, penalty=elasticnet, solver=newton-cholesky;, score=nan total time=   0.0s\n",
      "[CV 6/10] END C=20, penalty=elasticnet, solver=newton-cholesky;, score=nan total time=   0.0s\n",
      "[CV 7/10] END C=20, penalty=elasticnet, solver=newton-cholesky;, score=nan total time=   0.0s\n",
      "[CV 8/10] END C=20, penalty=elasticnet, solver=newton-cholesky;, score=nan total time=   0.0s\n",
      "[CV 9/10] END C=20, penalty=elasticnet, solver=newton-cholesky;, score=nan total time=   0.0s\n",
      "[CV 10/10] END C=20, penalty=elasticnet, solver=newton-cholesky;, score=nan total time=   0.0s\n",
      "[CV 1/10] END ....C=10, penalty=l2, solver=saga;, score=0.750 total time=   0.0s\n",
      "[CV 2/10] END ....C=10, penalty=l2, solver=saga;, score=0.750 total time=   0.0s\n",
      "[CV 3/10] END ....C=10, penalty=l2, solver=saga;, score=0.769 total time=   0.0s\n",
      "[CV 4/10] END ....C=10, penalty=l2, solver=saga;, score=0.808 total time=   0.0s\n",
      "[CV 5/10] END ....C=10, penalty=l2, solver=saga;, score=0.667 total time=   0.0s\n",
      "[CV 6/10] END ....C=10, penalty=l2, solver=saga;, score=0.745 total time=   0.0s\n",
      "[CV 7/10] END ....C=10, penalty=l2, solver=saga;, score=0.627 total time=   0.0s\n",
      "[CV 8/10] END ....C=10, penalty=l2, solver=saga;, score=0.882 total time=   0.0s\n",
      "[CV 9/10] END ....C=10, penalty=l2, solver=saga;, score=0.824 total time=   0.0s\n",
      "[CV 10/10] END ...C=10, penalty=l2, solver=saga;, score=0.902 total time=   0.0s\n",
      "[CV 1/10] END .......C=20, penalty=l1, solver=sag;, score=nan total time=   0.0s\n",
      "[CV 2/10] END .......C=20, penalty=l1, solver=sag;, score=nan total time=   0.0s\n",
      "[CV 3/10] END .......C=20, penalty=l1, solver=sag;, score=nan total time=   0.0s\n",
      "[CV 4/10] END .......C=20, penalty=l1, solver=sag;, score=nan total time=   0.0s\n",
      "[CV 5/10] END .......C=20, penalty=l1, solver=sag;, score=nan total time=   0.0s\n",
      "[CV 6/10] END .......C=20, penalty=l1, solver=sag;, score=nan total time=   0.0s\n",
      "[CV 7/10] END .......C=20, penalty=l1, solver=sag;, score=nan total time=   0.0s\n",
      "[CV 8/10] END .......C=20, penalty=l1, solver=sag;, score=nan total time=   0.0s\n",
      "[CV 9/10] END .......C=20, penalty=l1, solver=sag;, score=nan total time=   0.0s\n",
      "[CV 10/10] END ......C=20, penalty=l1, solver=sag;, score=nan total time=   0.0s\n"
     ]
    },
    {
     "data": {
      "text/html": [
       "<style>#sk-container-id-3 {color: black;background-color: white;}#sk-container-id-3 pre{padding: 0;}#sk-container-id-3 div.sk-toggleable {background-color: white;}#sk-container-id-3 label.sk-toggleable__label {cursor: pointer;display: block;width: 100%;margin-bottom: 0;padding: 0.3em;box-sizing: border-box;text-align: center;}#sk-container-id-3 label.sk-toggleable__label-arrow:before {content: \"▸\";float: left;margin-right: 0.25em;color: #696969;}#sk-container-id-3 label.sk-toggleable__label-arrow:hover:before {color: black;}#sk-container-id-3 div.sk-estimator:hover label.sk-toggleable__label-arrow:before {color: black;}#sk-container-id-3 div.sk-toggleable__content {max-height: 0;max-width: 0;overflow: hidden;text-align: left;background-color: #f0f8ff;}#sk-container-id-3 div.sk-toggleable__content pre {margin: 0.2em;color: black;border-radius: 0.25em;background-color: #f0f8ff;}#sk-container-id-3 input.sk-toggleable__control:checked~div.sk-toggleable__content {max-height: 200px;max-width: 100%;overflow: auto;}#sk-container-id-3 input.sk-toggleable__control:checked~label.sk-toggleable__label-arrow:before {content: \"▾\";}#sk-container-id-3 div.sk-estimator input.sk-toggleable__control:checked~label.sk-toggleable__label {background-color: #d4ebff;}#sk-container-id-3 div.sk-label input.sk-toggleable__control:checked~label.sk-toggleable__label {background-color: #d4ebff;}#sk-container-id-3 input.sk-hidden--visually {border: 0;clip: rect(1px 1px 1px 1px);clip: rect(1px, 1px, 1px, 1px);height: 1px;margin: -1px;overflow: hidden;padding: 0;position: absolute;width: 1px;}#sk-container-id-3 div.sk-estimator {font-family: monospace;background-color: #f0f8ff;border: 1px dotted black;border-radius: 0.25em;box-sizing: border-box;margin-bottom: 0.5em;}#sk-container-id-3 div.sk-estimator:hover {background-color: #d4ebff;}#sk-container-id-3 div.sk-parallel-item::after {content: \"\";width: 100%;border-bottom: 1px solid gray;flex-grow: 1;}#sk-container-id-3 div.sk-label:hover label.sk-toggleable__label {background-color: #d4ebff;}#sk-container-id-3 div.sk-serial::before {content: \"\";position: absolute;border-left: 1px solid gray;box-sizing: border-box;top: 0;bottom: 0;left: 50%;z-index: 0;}#sk-container-id-3 div.sk-serial {display: flex;flex-direction: column;align-items: center;background-color: white;padding-right: 0.2em;padding-left: 0.2em;position: relative;}#sk-container-id-3 div.sk-item {position: relative;z-index: 1;}#sk-container-id-3 div.sk-parallel {display: flex;align-items: stretch;justify-content: center;background-color: white;position: relative;}#sk-container-id-3 div.sk-item::before, #sk-container-id-3 div.sk-parallel-item::before {content: \"\";position: absolute;border-left: 1px solid gray;box-sizing: border-box;top: 0;bottom: 0;left: 50%;z-index: -1;}#sk-container-id-3 div.sk-parallel-item {display: flex;flex-direction: column;z-index: 1;position: relative;background-color: white;}#sk-container-id-3 div.sk-parallel-item:first-child::after {align-self: flex-end;width: 50%;}#sk-container-id-3 div.sk-parallel-item:last-child::after {align-self: flex-start;width: 50%;}#sk-container-id-3 div.sk-parallel-item:only-child::after {width: 0;}#sk-container-id-3 div.sk-dashed-wrapped {border: 1px dashed gray;margin: 0 0.4em 0.5em 0.4em;box-sizing: border-box;padding-bottom: 0.4em;background-color: white;}#sk-container-id-3 div.sk-label label {font-family: monospace;font-weight: bold;display: inline-block;line-height: 1.2em;}#sk-container-id-3 div.sk-label-container {text-align: center;}#sk-container-id-3 div.sk-container {/* jupyter's `normalize.less` sets `[hidden] { display: none; }` but bootstrap.min.css set `[hidden] { display: none !important; }` so we also need the `!important` here to be able to override the default hidden behavior on the sphinx rendered scikit-learn.org. See: https://github.com/scikit-learn/scikit-learn/issues/21755 */display: inline-block !important;position: relative;}#sk-container-id-3 div.sk-text-repr-fallback {display: none;}</style><div id=\"sk-container-id-3\" class=\"sk-top-container\"><div class=\"sk-text-repr-fallback\"><pre>RandomizedSearchCV(cv=10, estimator=LogisticRegression(),\n",
       "                   param_distributions={&#x27;C&#x27;: [1, 10, 20],\n",
       "                                        &#x27;penalty&#x27;: [&#x27;l1&#x27;, &#x27;l2&#x27;, &#x27;elasticnet&#x27;],\n",
       "                                        &#x27;solver&#x27;: [&#x27;lbfgs&#x27;, &#x27;liblinear&#x27;,\n",
       "                                                   &#x27;newton-cg&#x27;,\n",
       "                                                   &#x27;newton-cholesky&#x27;, &#x27;sag&#x27;,\n",
       "                                                   &#x27;saga&#x27;]},\n",
       "                   scoring=&#x27;accuracy&#x27;, verbose=3)</pre><b>In a Jupyter environment, please rerun this cell to show the HTML representation or trust the notebook. <br />On GitHub, the HTML representation is unable to render, please try loading this page with nbviewer.org.</b></div><div class=\"sk-container\" hidden><div class=\"sk-item sk-dashed-wrapped\"><div class=\"sk-label-container\"><div class=\"sk-label sk-toggleable\"><input class=\"sk-toggleable__control sk-hidden--visually\" id=\"sk-estimator-id-5\" type=\"checkbox\" ><label for=\"sk-estimator-id-5\" class=\"sk-toggleable__label sk-toggleable__label-arrow\">RandomizedSearchCV</label><div class=\"sk-toggleable__content\"><pre>RandomizedSearchCV(cv=10, estimator=LogisticRegression(),\n",
       "                   param_distributions={&#x27;C&#x27;: [1, 10, 20],\n",
       "                                        &#x27;penalty&#x27;: [&#x27;l1&#x27;, &#x27;l2&#x27;, &#x27;elasticnet&#x27;],\n",
       "                                        &#x27;solver&#x27;: [&#x27;lbfgs&#x27;, &#x27;liblinear&#x27;,\n",
       "                                                   &#x27;newton-cg&#x27;,\n",
       "                                                   &#x27;newton-cholesky&#x27;, &#x27;sag&#x27;,\n",
       "                                                   &#x27;saga&#x27;]},\n",
       "                   scoring=&#x27;accuracy&#x27;, verbose=3)</pre></div></div></div><div class=\"sk-parallel\"><div class=\"sk-parallel-item\"><div class=\"sk-item\"><div class=\"sk-label-container\"><div class=\"sk-label sk-toggleable\"><input class=\"sk-toggleable__control sk-hidden--visually\" id=\"sk-estimator-id-6\" type=\"checkbox\" ><label for=\"sk-estimator-id-6\" class=\"sk-toggleable__label sk-toggleable__label-arrow\">estimator: LogisticRegression</label><div class=\"sk-toggleable__content\"><pre>LogisticRegression()</pre></div></div></div><div class=\"sk-serial\"><div class=\"sk-item\"><div class=\"sk-estimator sk-toggleable\"><input class=\"sk-toggleable__control sk-hidden--visually\" id=\"sk-estimator-id-7\" type=\"checkbox\" ><label for=\"sk-estimator-id-7\" class=\"sk-toggleable__label sk-toggleable__label-arrow\">LogisticRegression</label><div class=\"sk-toggleable__content\"><pre>LogisticRegression()</pre></div></div></div></div></div></div></div></div></div></div>"
      ],
      "text/plain": [
       "RandomizedSearchCV(cv=10, estimator=LogisticRegression(),\n",
       "                   param_distributions={'C': [1, 10, 20],\n",
       "                                        'penalty': ['l1', 'l2', 'elasticnet'],\n",
       "                                        'solver': ['lbfgs', 'liblinear',\n",
       "                                                   'newton-cg',\n",
       "                                                   'newton-cholesky', 'sag',\n",
       "                                                   'saga']},\n",
       "                   scoring='accuracy', verbose=3)"
      ]
     },
     "execution_count": 26,
     "metadata": {},
     "output_type": "execute_result"
    }
   ],
   "source": [
    "from sklearn.model_selection import RandomizedSearchCV\n",
    "regressor_cv1 = RandomizedSearchCV(regressor,param_distributions=parameters,cv=10,scoring='accuracy',verbose = 3)\n",
    "regressor_cv1.fit(x_train_scaled,y_train)"
   ]
  },
  {
   "cell_type": "code",
   "execution_count": 27,
   "id": "4f5ed742-e3c3-48ea-bd74-b86e25dc96b0",
   "metadata": {},
   "outputs": [
    {
     "data": {
      "text/plain": [
       "{'solver': 'sag', 'penalty': 'l2', 'C': 20}"
      ]
     },
     "execution_count": 27,
     "metadata": {},
     "output_type": "execute_result"
    }
   ],
   "source": [
    "regressor_cv1.best_params_"
   ]
  },
  {
   "cell_type": "code",
   "execution_count": 40,
   "id": "4e0b00b6-5fad-47ba-9e68-2318325869cd",
   "metadata": {},
   "outputs": [
    {
     "name": "stdout",
     "output_type": "stream",
     "text": [
      "0.7677165354330708\n",
      "[[146  38]\n",
      " [ 21  49]]\n",
      "              precision    recall  f1-score   support\n",
      "\n",
      "           0       0.87      0.79      0.83       184\n",
      "           1       0.56      0.70      0.62        70\n",
      "\n",
      "    accuracy                           0.77       254\n",
      "   macro avg       0.72      0.75      0.73       254\n",
      "weighted avg       0.79      0.77      0.77       254\n",
      "\n"
     ]
    }
   ],
   "source": [
    "regressor2 = LogisticRegression(C = 20,penalty='l2',solver='sag')\n",
    "regressor2.fit(x_train_scaled,y_train)\n",
    "y_pred2 = regressor2.predict(x_test_scaled)\n",
    "print(accuracy_score(y_pred2,y_test))\n",
    "print(confusion_matrix(y_pred2,y_test))\n",
    "print(classification_report(y_pred2,y_test))"
   ]
  },
  {
   "cell_type": "markdown",
   "id": "ee22214a-7205-4ef2-9770-2ed05adc8153",
   "metadata": {},
   "source": [
    "# Logistic Regression Accuracy is : 76.77%"
   ]
  },
  {
   "cell_type": "code",
   "execution_count": 29,
   "id": "b1b25f69-ddf5-4512-804d-cc3bb16c463c",
   "metadata": {},
   "outputs": [
    {
     "data": {
      "text/html": [
       "<style>#sk-container-id-4 {color: black;background-color: white;}#sk-container-id-4 pre{padding: 0;}#sk-container-id-4 div.sk-toggleable {background-color: white;}#sk-container-id-4 label.sk-toggleable__label {cursor: pointer;display: block;width: 100%;margin-bottom: 0;padding: 0.3em;box-sizing: border-box;text-align: center;}#sk-container-id-4 label.sk-toggleable__label-arrow:before {content: \"▸\";float: left;margin-right: 0.25em;color: #696969;}#sk-container-id-4 label.sk-toggleable__label-arrow:hover:before {color: black;}#sk-container-id-4 div.sk-estimator:hover label.sk-toggleable__label-arrow:before {color: black;}#sk-container-id-4 div.sk-toggleable__content {max-height: 0;max-width: 0;overflow: hidden;text-align: left;background-color: #f0f8ff;}#sk-container-id-4 div.sk-toggleable__content pre {margin: 0.2em;color: black;border-radius: 0.25em;background-color: #f0f8ff;}#sk-container-id-4 input.sk-toggleable__control:checked~div.sk-toggleable__content {max-height: 200px;max-width: 100%;overflow: auto;}#sk-container-id-4 input.sk-toggleable__control:checked~label.sk-toggleable__label-arrow:before {content: \"▾\";}#sk-container-id-4 div.sk-estimator input.sk-toggleable__control:checked~label.sk-toggleable__label {background-color: #d4ebff;}#sk-container-id-4 div.sk-label input.sk-toggleable__control:checked~label.sk-toggleable__label {background-color: #d4ebff;}#sk-container-id-4 input.sk-hidden--visually {border: 0;clip: rect(1px 1px 1px 1px);clip: rect(1px, 1px, 1px, 1px);height: 1px;margin: -1px;overflow: hidden;padding: 0;position: absolute;width: 1px;}#sk-container-id-4 div.sk-estimator {font-family: monospace;background-color: #f0f8ff;border: 1px dotted black;border-radius: 0.25em;box-sizing: border-box;margin-bottom: 0.5em;}#sk-container-id-4 div.sk-estimator:hover {background-color: #d4ebff;}#sk-container-id-4 div.sk-parallel-item::after {content: \"\";width: 100%;border-bottom: 1px solid gray;flex-grow: 1;}#sk-container-id-4 div.sk-label:hover label.sk-toggleable__label {background-color: #d4ebff;}#sk-container-id-4 div.sk-serial::before {content: \"\";position: absolute;border-left: 1px solid gray;box-sizing: border-box;top: 0;bottom: 0;left: 50%;z-index: 0;}#sk-container-id-4 div.sk-serial {display: flex;flex-direction: column;align-items: center;background-color: white;padding-right: 0.2em;padding-left: 0.2em;position: relative;}#sk-container-id-4 div.sk-item {position: relative;z-index: 1;}#sk-container-id-4 div.sk-parallel {display: flex;align-items: stretch;justify-content: center;background-color: white;position: relative;}#sk-container-id-4 div.sk-item::before, #sk-container-id-4 div.sk-parallel-item::before {content: \"\";position: absolute;border-left: 1px solid gray;box-sizing: border-box;top: 0;bottom: 0;left: 50%;z-index: -1;}#sk-container-id-4 div.sk-parallel-item {display: flex;flex-direction: column;z-index: 1;position: relative;background-color: white;}#sk-container-id-4 div.sk-parallel-item:first-child::after {align-self: flex-end;width: 50%;}#sk-container-id-4 div.sk-parallel-item:last-child::after {align-self: flex-start;width: 50%;}#sk-container-id-4 div.sk-parallel-item:only-child::after {width: 0;}#sk-container-id-4 div.sk-dashed-wrapped {border: 1px dashed gray;margin: 0 0.4em 0.5em 0.4em;box-sizing: border-box;padding-bottom: 0.4em;background-color: white;}#sk-container-id-4 div.sk-label label {font-family: monospace;font-weight: bold;display: inline-block;line-height: 1.2em;}#sk-container-id-4 div.sk-label-container {text-align: center;}#sk-container-id-4 div.sk-container {/* jupyter's `normalize.less` sets `[hidden] { display: none; }` but bootstrap.min.css set `[hidden] { display: none !important; }` so we also need the `!important` here to be able to override the default hidden behavior on the sphinx rendered scikit-learn.org. See: https://github.com/scikit-learn/scikit-learn/issues/21755 */display: inline-block !important;position: relative;}#sk-container-id-4 div.sk-text-repr-fallback {display: none;}</style><div id=\"sk-container-id-4\" class=\"sk-top-container\"><div class=\"sk-text-repr-fallback\"><pre>DecisionTreeClassifier()</pre><b>In a Jupyter environment, please rerun this cell to show the HTML representation or trust the notebook. <br />On GitHub, the HTML representation is unable to render, please try loading this page with nbviewer.org.</b></div><div class=\"sk-container\" hidden><div class=\"sk-item\"><div class=\"sk-estimator sk-toggleable\"><input class=\"sk-toggleable__control sk-hidden--visually\" id=\"sk-estimator-id-8\" type=\"checkbox\" checked><label for=\"sk-estimator-id-8\" class=\"sk-toggleable__label sk-toggleable__label-arrow\">DecisionTreeClassifier</label><div class=\"sk-toggleable__content\"><pre>DecisionTreeClassifier()</pre></div></div></div></div></div>"
      ],
      "text/plain": [
       "DecisionTreeClassifier()"
      ]
     },
     "execution_count": 29,
     "metadata": {},
     "output_type": "execute_result"
    }
   ],
   "source": [
    "from sklearn.tree import DecisionTreeClassifier\n",
    "classifier = DecisionTreeClassifier()\n",
    "classifier.fit(x_train_scaled,y_train)"
   ]
  },
  {
   "cell_type": "code",
   "execution_count": 30,
   "id": "a4200e85-385d-49c9-b816-8173075606d0",
   "metadata": {},
   "outputs": [
    {
     "name": "stdout",
     "output_type": "stream",
     "text": [
      "0.7165354330708661\n",
      "[[129  34]\n",
      " [ 38  53]]\n",
      "              precision    recall  f1-score   support\n",
      "\n",
      "           0       0.77      0.79      0.78       163\n",
      "           1       0.61      0.58      0.60        91\n",
      "\n",
      "    accuracy                           0.72       254\n",
      "   macro avg       0.69      0.69      0.69       254\n",
      "weighted avg       0.71      0.72      0.72       254\n",
      "\n"
     ]
    }
   ],
   "source": [
    "y_pred = classifier.predict(x_test_scaled)\n",
    "print(accuracy_score(y_pred,y_test))\n",
    "print(confusion_matrix(y_pred,y_test))\n",
    "print(classification_report(y_pred,y_test))"
   ]
  },
  {
   "cell_type": "code",
   "execution_count": 31,
   "id": "a1f7f5ad-5aec-45c8-ba7d-3762d1184983",
   "metadata": {},
   "outputs": [],
   "source": [
    "parameters1 = {\n",
    "    'criterion' : ['gini','entropy','log_loss'],\n",
    "    'splitter' : ['best','random'],\n",
    "    'max_depth' : [1,2,3,4,5],\n",
    "    'max_features' : ['auto','sqrt','log2']\n",
    "    }"
   ]
  },
  {
   "cell_type": "code",
   "execution_count": 32,
   "id": "b353ccbf-b3ed-4f66-9089-5d0ca449406b",
   "metadata": {},
   "outputs": [
    {
     "data": {
      "text/html": [
       "<style>#sk-container-id-5 {color: black;background-color: white;}#sk-container-id-5 pre{padding: 0;}#sk-container-id-5 div.sk-toggleable {background-color: white;}#sk-container-id-5 label.sk-toggleable__label {cursor: pointer;display: block;width: 100%;margin-bottom: 0;padding: 0.3em;box-sizing: border-box;text-align: center;}#sk-container-id-5 label.sk-toggleable__label-arrow:before {content: \"▸\";float: left;margin-right: 0.25em;color: #696969;}#sk-container-id-5 label.sk-toggleable__label-arrow:hover:before {color: black;}#sk-container-id-5 div.sk-estimator:hover label.sk-toggleable__label-arrow:before {color: black;}#sk-container-id-5 div.sk-toggleable__content {max-height: 0;max-width: 0;overflow: hidden;text-align: left;background-color: #f0f8ff;}#sk-container-id-5 div.sk-toggleable__content pre {margin: 0.2em;color: black;border-radius: 0.25em;background-color: #f0f8ff;}#sk-container-id-5 input.sk-toggleable__control:checked~div.sk-toggleable__content {max-height: 200px;max-width: 100%;overflow: auto;}#sk-container-id-5 input.sk-toggleable__control:checked~label.sk-toggleable__label-arrow:before {content: \"▾\";}#sk-container-id-5 div.sk-estimator input.sk-toggleable__control:checked~label.sk-toggleable__label {background-color: #d4ebff;}#sk-container-id-5 div.sk-label input.sk-toggleable__control:checked~label.sk-toggleable__label {background-color: #d4ebff;}#sk-container-id-5 input.sk-hidden--visually {border: 0;clip: rect(1px 1px 1px 1px);clip: rect(1px, 1px, 1px, 1px);height: 1px;margin: -1px;overflow: hidden;padding: 0;position: absolute;width: 1px;}#sk-container-id-5 div.sk-estimator {font-family: monospace;background-color: #f0f8ff;border: 1px dotted black;border-radius: 0.25em;box-sizing: border-box;margin-bottom: 0.5em;}#sk-container-id-5 div.sk-estimator:hover {background-color: #d4ebff;}#sk-container-id-5 div.sk-parallel-item::after {content: \"\";width: 100%;border-bottom: 1px solid gray;flex-grow: 1;}#sk-container-id-5 div.sk-label:hover label.sk-toggleable__label {background-color: #d4ebff;}#sk-container-id-5 div.sk-serial::before {content: \"\";position: absolute;border-left: 1px solid gray;box-sizing: border-box;top: 0;bottom: 0;left: 50%;z-index: 0;}#sk-container-id-5 div.sk-serial {display: flex;flex-direction: column;align-items: center;background-color: white;padding-right: 0.2em;padding-left: 0.2em;position: relative;}#sk-container-id-5 div.sk-item {position: relative;z-index: 1;}#sk-container-id-5 div.sk-parallel {display: flex;align-items: stretch;justify-content: center;background-color: white;position: relative;}#sk-container-id-5 div.sk-item::before, #sk-container-id-5 div.sk-parallel-item::before {content: \"\";position: absolute;border-left: 1px solid gray;box-sizing: border-box;top: 0;bottom: 0;left: 50%;z-index: -1;}#sk-container-id-5 div.sk-parallel-item {display: flex;flex-direction: column;z-index: 1;position: relative;background-color: white;}#sk-container-id-5 div.sk-parallel-item:first-child::after {align-self: flex-end;width: 50%;}#sk-container-id-5 div.sk-parallel-item:last-child::after {align-self: flex-start;width: 50%;}#sk-container-id-5 div.sk-parallel-item:only-child::after {width: 0;}#sk-container-id-5 div.sk-dashed-wrapped {border: 1px dashed gray;margin: 0 0.4em 0.5em 0.4em;box-sizing: border-box;padding-bottom: 0.4em;background-color: white;}#sk-container-id-5 div.sk-label label {font-family: monospace;font-weight: bold;display: inline-block;line-height: 1.2em;}#sk-container-id-5 div.sk-label-container {text-align: center;}#sk-container-id-5 div.sk-container {/* jupyter's `normalize.less` sets `[hidden] { display: none; }` but bootstrap.min.css set `[hidden] { display: none !important; }` so we also need the `!important` here to be able to override the default hidden behavior on the sphinx rendered scikit-learn.org. See: https://github.com/scikit-learn/scikit-learn/issues/21755 */display: inline-block !important;position: relative;}#sk-container-id-5 div.sk-text-repr-fallback {display: none;}</style><div id=\"sk-container-id-5\" class=\"sk-top-container\"><div class=\"sk-text-repr-fallback\"><pre>GridSearchCV(cv=10, estimator=DecisionTreeClassifier(),\n",
       "             param_grid={&#x27;criterion&#x27;: [&#x27;gini&#x27;, &#x27;entropy&#x27;, &#x27;log_loss&#x27;],\n",
       "                         &#x27;max_depth&#x27;: [1, 2, 3, 4, 5],\n",
       "                         &#x27;max_features&#x27;: [&#x27;auto&#x27;, &#x27;sqrt&#x27;, &#x27;log2&#x27;],\n",
       "                         &#x27;splitter&#x27;: [&#x27;best&#x27;, &#x27;random&#x27;]},\n",
       "             scoring=&#x27;accuracy&#x27;)</pre><b>In a Jupyter environment, please rerun this cell to show the HTML representation or trust the notebook. <br />On GitHub, the HTML representation is unable to render, please try loading this page with nbviewer.org.</b></div><div class=\"sk-container\" hidden><div class=\"sk-item sk-dashed-wrapped\"><div class=\"sk-label-container\"><div class=\"sk-label sk-toggleable\"><input class=\"sk-toggleable__control sk-hidden--visually\" id=\"sk-estimator-id-9\" type=\"checkbox\" ><label for=\"sk-estimator-id-9\" class=\"sk-toggleable__label sk-toggleable__label-arrow\">GridSearchCV</label><div class=\"sk-toggleable__content\"><pre>GridSearchCV(cv=10, estimator=DecisionTreeClassifier(),\n",
       "             param_grid={&#x27;criterion&#x27;: [&#x27;gini&#x27;, &#x27;entropy&#x27;, &#x27;log_loss&#x27;],\n",
       "                         &#x27;max_depth&#x27;: [1, 2, 3, 4, 5],\n",
       "                         &#x27;max_features&#x27;: [&#x27;auto&#x27;, &#x27;sqrt&#x27;, &#x27;log2&#x27;],\n",
       "                         &#x27;splitter&#x27;: [&#x27;best&#x27;, &#x27;random&#x27;]},\n",
       "             scoring=&#x27;accuracy&#x27;)</pre></div></div></div><div class=\"sk-parallel\"><div class=\"sk-parallel-item\"><div class=\"sk-item\"><div class=\"sk-label-container\"><div class=\"sk-label sk-toggleable\"><input class=\"sk-toggleable__control sk-hidden--visually\" id=\"sk-estimator-id-10\" type=\"checkbox\" ><label for=\"sk-estimator-id-10\" class=\"sk-toggleable__label sk-toggleable__label-arrow\">estimator: DecisionTreeClassifier</label><div class=\"sk-toggleable__content\"><pre>DecisionTreeClassifier()</pre></div></div></div><div class=\"sk-serial\"><div class=\"sk-item\"><div class=\"sk-estimator sk-toggleable\"><input class=\"sk-toggleable__control sk-hidden--visually\" id=\"sk-estimator-id-11\" type=\"checkbox\" ><label for=\"sk-estimator-id-11\" class=\"sk-toggleable__label sk-toggleable__label-arrow\">DecisionTreeClassifier</label><div class=\"sk-toggleable__content\"><pre>DecisionTreeClassifier()</pre></div></div></div></div></div></div></div></div></div></div>"
      ],
      "text/plain": [
       "GridSearchCV(cv=10, estimator=DecisionTreeClassifier(),\n",
       "             param_grid={'criterion': ['gini', 'entropy', 'log_loss'],\n",
       "                         'max_depth': [1, 2, 3, 4, 5],\n",
       "                         'max_features': ['auto', 'sqrt', 'log2'],\n",
       "                         'splitter': ['best', 'random']},\n",
       "             scoring='accuracy')"
      ]
     },
     "execution_count": 32,
     "metadata": {},
     "output_type": "execute_result"
    }
   ],
   "source": [
    "classifier1 = GridSearchCV(classifier,param_grid=parameters1,cv=10,scoring='accuracy')\n",
    "classifier1.fit(x_train_scaled,y_train)"
   ]
  },
  {
   "cell_type": "code",
   "execution_count": 41,
   "id": "e9d0383b-340e-4520-949a-e91cd26836c5",
   "metadata": {},
   "outputs": [
    {
     "data": {
      "text/plain": [
       "{'criterion': 'gini',\n",
       " 'max_depth': 4,\n",
       " 'max_features': 'log2',\n",
       " 'splitter': 'best'}"
      ]
     },
     "execution_count": 41,
     "metadata": {},
     "output_type": "execute_result"
    }
   ],
   "source": [
    "classifier1.best_params_"
   ]
  },
  {
   "cell_type": "code",
   "execution_count": 42,
   "id": "b0eeb7a8-43ad-4d1b-92ef-8e321c825d56",
   "metadata": {},
   "outputs": [
    {
     "name": "stdout",
     "output_type": "stream",
     "text": [
      "0.7204724409448819\n",
      "[[137  41]\n",
      " [ 30  46]]\n",
      "              precision    recall  f1-score   support\n",
      "\n",
      "           0       0.82      0.77      0.79       178\n",
      "           1       0.53      0.61      0.56        76\n",
      "\n",
      "    accuracy                           0.72       254\n",
      "   macro avg       0.67      0.69      0.68       254\n",
      "weighted avg       0.73      0.72      0.73       254\n",
      "\n"
     ]
    }
   ],
   "source": [
    "classifier = DecisionTreeClassifier(criterion = 'gini',max_depth = 4,max_features = 'log2',splitter = 'best')\n",
    "classifier.fit(x_train_scaled,y_train)\n",
    "y_pred1 = classifier.predict(x_test_scaled)\n",
    "print(accuracy_score(y_pred1,y_test))\n",
    "print(confusion_matrix(y_pred1,y_test))\n",
    "print(classification_report(y_pred1,y_test))"
   ]
  },
  {
   "cell_type": "code",
   "execution_count": 35,
   "id": "4da2bbbb-fb4b-4213-9e8f-2969bf0b25e6",
   "metadata": {},
   "outputs": [
    {
     "name": "stdout",
     "output_type": "stream",
     "text": [
      "Fitting 10 folds for each of 10 candidates, totalling 100 fits\n",
      "[CV 1/10] END criterion=gini, max_depth=4, max_features=sqrt, splitter=best;, score=0.769 total time=   0.0s\n",
      "[CV 2/10] END criterion=gini, max_depth=4, max_features=sqrt, splitter=best;, score=0.769 total time=   0.0s\n",
      "[CV 3/10] END criterion=gini, max_depth=4, max_features=sqrt, splitter=best;, score=0.750 total time=   0.0s\n",
      "[CV 4/10] END criterion=gini, max_depth=4, max_features=sqrt, splitter=best;, score=0.712 total time=   0.0s\n",
      "[CV 5/10] END criterion=gini, max_depth=4, max_features=sqrt, splitter=best;, score=0.647 total time=   0.0s\n",
      "[CV 6/10] END criterion=gini, max_depth=4, max_features=sqrt, splitter=best;, score=0.784 total time=   0.0s\n",
      "[CV 7/10] END criterion=gini, max_depth=4, max_features=sqrt, splitter=best;, score=0.608 total time=   0.0s\n",
      "[CV 8/10] END criterion=gini, max_depth=4, max_features=sqrt, splitter=best;, score=0.686 total time=   0.0s\n",
      "[CV 9/10] END criterion=gini, max_depth=4, max_features=sqrt, splitter=best;, score=0.765 total time=   0.0s\n",
      "[CV 10/10] END criterion=gini, max_depth=4, max_features=sqrt, splitter=best;, score=0.804 total time=   0.0s\n",
      "[CV 1/10] END criterion=entropy, max_depth=5, max_features=sqrt, splitter=random;, score=0.654 total time=   0.0s\n",
      "[CV 2/10] END criterion=entropy, max_depth=5, max_features=sqrt, splitter=random;, score=0.692 total time=   0.0s\n",
      "[CV 3/10] END criterion=entropy, max_depth=5, max_features=sqrt, splitter=random;, score=0.692 total time=   0.0s\n",
      "[CV 4/10] END criterion=entropy, max_depth=5, max_features=sqrt, splitter=random;, score=0.712 total time=   0.0s\n",
      "[CV 5/10] END criterion=entropy, max_depth=5, max_features=sqrt, splitter=random;, score=0.627 total time=   0.0s\n",
      "[CV 6/10] END criterion=entropy, max_depth=5, max_features=sqrt, splitter=random;, score=0.706 total time=   0.0s\n",
      "[CV 7/10] END criterion=entropy, max_depth=5, max_features=sqrt, splitter=random;, score=0.745 total time=   0.0s\n",
      "[CV 8/10] END criterion=entropy, max_depth=5, max_features=sqrt, splitter=random;, score=0.765 total time=   0.0s\n",
      "[CV 9/10] END criterion=entropy, max_depth=5, max_features=sqrt, splitter=random;, score=0.667 total time=   0.0s\n",
      "[CV 10/10] END criterion=entropy, max_depth=5, max_features=sqrt, splitter=random;, score=0.745 total time=   0.0s\n",
      "[CV 1/10] END criterion=gini, max_depth=5, max_features=log2, splitter=random;, score=0.692 total time=   0.0s\n",
      "[CV 2/10] END criterion=gini, max_depth=5, max_features=log2, splitter=random;, score=0.731 total time=   0.0s\n",
      "[CV 3/10] END criterion=gini, max_depth=5, max_features=log2, splitter=random;, score=0.712 total time=   0.0s\n",
      "[CV 4/10] END criterion=gini, max_depth=5, max_features=log2, splitter=random;, score=0.827 total time=   0.0s\n",
      "[CV 5/10] END criterion=gini, max_depth=5, max_features=log2, splitter=random;, score=0.647 total time=   0.0s\n",
      "[CV 6/10] END criterion=gini, max_depth=5, max_features=log2, splitter=random;, score=0.667 total time=   0.0s\n",
      "[CV 7/10] END criterion=gini, max_depth=5, max_features=log2, splitter=random;, score=0.706 total time=   0.0s\n",
      "[CV 8/10] END criterion=gini, max_depth=5, max_features=log2, splitter=random;, score=0.706 total time=   0.0s\n",
      "[CV 9/10] END criterion=gini, max_depth=5, max_features=log2, splitter=random;, score=0.627 total time=   0.0s\n",
      "[CV 10/10] END criterion=gini, max_depth=5, max_features=log2, splitter=random;, score=0.843 total time=   0.0s\n",
      "[CV 1/10] END criterion=log_loss, max_depth=1, max_features=log2, splitter=random;, score=0.635 total time=   0.0s\n",
      "[CV 2/10] END criterion=log_loss, max_depth=1, max_features=log2, splitter=random;, score=0.654 total time=   0.0s\n",
      "[CV 3/10] END criterion=log_loss, max_depth=1, max_features=log2, splitter=random;, score=0.712 total time=   0.0s\n",
      "[CV 4/10] END criterion=log_loss, max_depth=1, max_features=log2, splitter=random;, score=0.654 total time=   0.0s\n",
      "[CV 5/10] END criterion=log_loss, max_depth=1, max_features=log2, splitter=random;, score=0.647 total time=   0.0s\n",
      "[CV 6/10] END criterion=log_loss, max_depth=1, max_features=log2, splitter=random;, score=0.647 total time=   0.0s\n",
      "[CV 7/10] END criterion=log_loss, max_depth=1, max_features=log2, splitter=random;, score=0.647 total time=   0.0s\n",
      "[CV 8/10] END criterion=log_loss, max_depth=1, max_features=log2, splitter=random;, score=0.647 total time=   0.0s\n",
      "[CV 9/10] END criterion=log_loss, max_depth=1, max_features=log2, splitter=random;, score=0.647 total time=   0.0s\n",
      "[CV 10/10] END criterion=log_loss, max_depth=1, max_features=log2, splitter=random;, score=0.647 total time=   0.0s\n",
      "[CV 1/10] END criterion=entropy, max_depth=4, max_features=auto, splitter=best;, score=0.827 total time=   0.0s\n",
      "[CV 2/10] END criterion=entropy, max_depth=4, max_features=auto, splitter=best;, score=0.712 total time=   0.0s\n",
      "[CV 3/10] END criterion=entropy, max_depth=4, max_features=auto, splitter=best;, score=0.673 total time=   0.0s\n",
      "[CV 4/10] END criterion=entropy, max_depth=4, max_features=auto, splitter=best;, score=0.769 total time=   0.0s\n",
      "[CV 5/10] END criterion=entropy, max_depth=4, max_features=auto, splitter=best;, score=0.588 total time=   0.0s\n",
      "[CV 6/10] END criterion=entropy, max_depth=4, max_features=auto, splitter=best;, score=0.667 total time=   0.0s\n",
      "[CV 7/10] END criterion=entropy, max_depth=4, max_features=auto, splitter=best;, score=0.667 total time=   0.0s\n",
      "[CV 8/10] END criterion=entropy, max_depth=4, max_features=auto, splitter=best;, score=0.824 total time=   0.0s\n",
      "[CV 9/10] END criterion=entropy, max_depth=4, max_features=auto, splitter=best;, score=0.667 total time=   0.0s\n",
      "[CV 10/10] END criterion=entropy, max_depth=4, max_features=auto, splitter=best;, score=0.745 total time=   0.0s\n",
      "[CV 1/10] END criterion=entropy, max_depth=5, max_features=auto, splitter=random;, score=0.750 total time=   0.0s\n",
      "[CV 2/10] END criterion=entropy, max_depth=5, max_features=auto, splitter=random;, score=0.692 total time=   0.0s\n",
      "[CV 3/10] END criterion=entropy, max_depth=5, max_features=auto, splitter=random;, score=0.731 total time=   0.0s\n",
      "[CV 4/10] END criterion=entropy, max_depth=5, max_features=auto, splitter=random;, score=0.635 total time=   0.0s\n",
      "[CV 5/10] END criterion=entropy, max_depth=5, max_features=auto, splitter=random;, score=0.686 total time=   0.0s\n",
      "[CV 6/10] END criterion=entropy, max_depth=5, max_features=auto, splitter=random;, score=0.627 total time=   0.0s\n",
      "[CV 7/10] END criterion=entropy, max_depth=5, max_features=auto, splitter=random;, score=0.608 total time=   0.0s\n",
      "[CV 8/10] END criterion=entropy, max_depth=5, max_features=auto, splitter=random;, score=0.706 total time=   0.0s\n",
      "[CV 9/10] END criterion=entropy, max_depth=5, max_features=auto, splitter=random;, score=0.627 total time=   0.0s\n",
      "[CV 10/10] END criterion=entropy, max_depth=5, max_features=auto, splitter=random;, score=0.627 total time=   0.0s\n",
      "[CV 1/10] END criterion=log_loss, max_depth=5, max_features=auto, splitter=best;, score=0.865 total time=   0.0s\n",
      "[CV 2/10] END criterion=log_loss, max_depth=5, max_features=auto, splitter=best;, score=0.712 total time=   0.0s\n",
      "[CV 3/10] END criterion=log_loss, max_depth=5, max_features=auto, splitter=best;, score=0.692 total time=   0.0s\n",
      "[CV 4/10] END criterion=log_loss, max_depth=5, max_features=auto, splitter=best;, score=0.731 total time=   0.0s\n",
      "[CV 5/10] END criterion=log_loss, max_depth=5, max_features=auto, splitter=best;, score=0.745 total time=   0.0s\n",
      "[CV 6/10] END criterion=log_loss, max_depth=5, max_features=auto, splitter=best;, score=0.784 total time=   0.0s\n",
      "[CV 7/10] END criterion=log_loss, max_depth=5, max_features=auto, splitter=best;, score=0.804 total time=   0.0s\n",
      "[CV 8/10] END criterion=log_loss, max_depth=5, max_features=auto, splitter=best;, score=0.647 total time=   0.0s\n",
      "[CV 9/10] END criterion=log_loss, max_depth=5, max_features=auto, splitter=best;, score=0.824 total time=   0.0s\n",
      "[CV 10/10] END criterion=log_loss, max_depth=5, max_features=auto, splitter=best;, score=0.824 total time=   0.0s\n",
      "[CV 1/10] END criterion=entropy, max_depth=2, max_features=auto, splitter=random;, score=0.769 total time=   0.0s\n",
      "[CV 2/10] END criterion=entropy, max_depth=2, max_features=auto, splitter=random;, score=0.654 total time=   0.0s\n",
      "[CV 3/10] END criterion=entropy, max_depth=2, max_features=auto, splitter=random;, score=0.654 total time=   0.0s\n",
      "[CV 4/10] END criterion=entropy, max_depth=2, max_features=auto, splitter=random;, score=0.731 total time=   0.0s\n",
      "[CV 5/10] END criterion=entropy, max_depth=2, max_features=auto, splitter=random;, score=0.569 total time=   0.0s\n",
      "[CV 6/10] END criterion=entropy, max_depth=2, max_features=auto, splitter=random;, score=0.647 total time=   0.0s\n",
      "[CV 7/10] END criterion=entropy, max_depth=2, max_features=auto, splitter=random;, score=0.627 total time=   0.0s\n",
      "[CV 8/10] END criterion=entropy, max_depth=2, max_features=auto, splitter=random;, score=0.647 total time=   0.0s\n",
      "[CV 9/10] END criterion=entropy, max_depth=2, max_features=auto, splitter=random;, score=0.686 total time=   0.0s\n",
      "[CV 10/10] END criterion=entropy, max_depth=2, max_features=auto, splitter=random;, score=0.667 total time=   0.0s\n",
      "[CV 1/10] END criterion=gini, max_depth=5, max_features=auto, splitter=random;, score=0.769 total time=   0.0s\n",
      "[CV 2/10] END criterion=gini, max_depth=5, max_features=auto, splitter=random;, score=0.673 total time=   0.0s\n",
      "[CV 3/10] END criterion=gini, max_depth=5, max_features=auto, splitter=random;, score=0.712 total time=   0.0s\n",
      "[CV 4/10] END criterion=gini, max_depth=5, max_features=auto, splitter=random;, score=0.827 total time=   0.0s\n",
      "[CV 5/10] END criterion=gini, max_depth=5, max_features=auto, splitter=random;, score=0.529 total time=   0.0s\n",
      "[CV 6/10] END criterion=gini, max_depth=5, max_features=auto, splitter=random;, score=0.686 total time=   0.0s\n",
      "[CV 7/10] END criterion=gini, max_depth=5, max_features=auto, splitter=random;, score=0.627 total time=   0.0s\n",
      "[CV 8/10] END criterion=gini, max_depth=5, max_features=auto, splitter=random;, score=0.647 total time=   0.0s\n",
      "[CV 9/10] END criterion=gini, max_depth=5, max_features=auto, splitter=random;, score=0.529 total time=   0.0s\n",
      "[CV 10/10] END criterion=gini, max_depth=5, max_features=auto, splitter=random;, score=0.784 total time=   0.0s\n",
      "[CV 1/10] END criterion=log_loss, max_depth=1, max_features=sqrt, splitter=random;, score=0.712 total time=   0.0s\n",
      "[CV 2/10] END criterion=log_loss, max_depth=1, max_features=sqrt, splitter=random;, score=0.654 total time=   0.0s\n",
      "[CV 3/10] END criterion=log_loss, max_depth=1, max_features=sqrt, splitter=random;, score=0.654 total time=   0.0s\n",
      "[CV 4/10] END criterion=log_loss, max_depth=1, max_features=sqrt, splitter=random;, score=0.673 total time=   0.0s\n",
      "[CV 5/10] END criterion=log_loss, max_depth=1, max_features=sqrt, splitter=random;, score=0.647 total time=   0.0s\n",
      "[CV 6/10] END criterion=log_loss, max_depth=1, max_features=sqrt, splitter=random;, score=0.608 total time=   0.0s\n",
      "[CV 7/10] END criterion=log_loss, max_depth=1, max_features=sqrt, splitter=random;, score=0.627 total time=   0.0s\n",
      "[CV 8/10] END criterion=log_loss, max_depth=1, max_features=sqrt, splitter=random;, score=0.647 total time=   0.0s\n",
      "[CV 9/10] END criterion=log_loss, max_depth=1, max_features=sqrt, splitter=random;, score=0.667 total time=   0.0s\n",
      "[CV 10/10] END criterion=log_loss, max_depth=1, max_features=sqrt, splitter=random;, score=0.647 total time=   0.0s\n"
     ]
    },
    {
     "data": {
      "text/html": [
       "<style>#sk-container-id-6 {color: black;background-color: white;}#sk-container-id-6 pre{padding: 0;}#sk-container-id-6 div.sk-toggleable {background-color: white;}#sk-container-id-6 label.sk-toggleable__label {cursor: pointer;display: block;width: 100%;margin-bottom: 0;padding: 0.3em;box-sizing: border-box;text-align: center;}#sk-container-id-6 label.sk-toggleable__label-arrow:before {content: \"▸\";float: left;margin-right: 0.25em;color: #696969;}#sk-container-id-6 label.sk-toggleable__label-arrow:hover:before {color: black;}#sk-container-id-6 div.sk-estimator:hover label.sk-toggleable__label-arrow:before {color: black;}#sk-container-id-6 div.sk-toggleable__content {max-height: 0;max-width: 0;overflow: hidden;text-align: left;background-color: #f0f8ff;}#sk-container-id-6 div.sk-toggleable__content pre {margin: 0.2em;color: black;border-radius: 0.25em;background-color: #f0f8ff;}#sk-container-id-6 input.sk-toggleable__control:checked~div.sk-toggleable__content {max-height: 200px;max-width: 100%;overflow: auto;}#sk-container-id-6 input.sk-toggleable__control:checked~label.sk-toggleable__label-arrow:before {content: \"▾\";}#sk-container-id-6 div.sk-estimator input.sk-toggleable__control:checked~label.sk-toggleable__label {background-color: #d4ebff;}#sk-container-id-6 div.sk-label input.sk-toggleable__control:checked~label.sk-toggleable__label {background-color: #d4ebff;}#sk-container-id-6 input.sk-hidden--visually {border: 0;clip: rect(1px 1px 1px 1px);clip: rect(1px, 1px, 1px, 1px);height: 1px;margin: -1px;overflow: hidden;padding: 0;position: absolute;width: 1px;}#sk-container-id-6 div.sk-estimator {font-family: monospace;background-color: #f0f8ff;border: 1px dotted black;border-radius: 0.25em;box-sizing: border-box;margin-bottom: 0.5em;}#sk-container-id-6 div.sk-estimator:hover {background-color: #d4ebff;}#sk-container-id-6 div.sk-parallel-item::after {content: \"\";width: 100%;border-bottom: 1px solid gray;flex-grow: 1;}#sk-container-id-6 div.sk-label:hover label.sk-toggleable__label {background-color: #d4ebff;}#sk-container-id-6 div.sk-serial::before {content: \"\";position: absolute;border-left: 1px solid gray;box-sizing: border-box;top: 0;bottom: 0;left: 50%;z-index: 0;}#sk-container-id-6 div.sk-serial {display: flex;flex-direction: column;align-items: center;background-color: white;padding-right: 0.2em;padding-left: 0.2em;position: relative;}#sk-container-id-6 div.sk-item {position: relative;z-index: 1;}#sk-container-id-6 div.sk-parallel {display: flex;align-items: stretch;justify-content: center;background-color: white;position: relative;}#sk-container-id-6 div.sk-item::before, #sk-container-id-6 div.sk-parallel-item::before {content: \"\";position: absolute;border-left: 1px solid gray;box-sizing: border-box;top: 0;bottom: 0;left: 50%;z-index: -1;}#sk-container-id-6 div.sk-parallel-item {display: flex;flex-direction: column;z-index: 1;position: relative;background-color: white;}#sk-container-id-6 div.sk-parallel-item:first-child::after {align-self: flex-end;width: 50%;}#sk-container-id-6 div.sk-parallel-item:last-child::after {align-self: flex-start;width: 50%;}#sk-container-id-6 div.sk-parallel-item:only-child::after {width: 0;}#sk-container-id-6 div.sk-dashed-wrapped {border: 1px dashed gray;margin: 0 0.4em 0.5em 0.4em;box-sizing: border-box;padding-bottom: 0.4em;background-color: white;}#sk-container-id-6 div.sk-label label {font-family: monospace;font-weight: bold;display: inline-block;line-height: 1.2em;}#sk-container-id-6 div.sk-label-container {text-align: center;}#sk-container-id-6 div.sk-container {/* jupyter's `normalize.less` sets `[hidden] { display: none; }` but bootstrap.min.css set `[hidden] { display: none !important; }` so we also need the `!important` here to be able to override the default hidden behavior on the sphinx rendered scikit-learn.org. See: https://github.com/scikit-learn/scikit-learn/issues/21755 */display: inline-block !important;position: relative;}#sk-container-id-6 div.sk-text-repr-fallback {display: none;}</style><div id=\"sk-container-id-6\" class=\"sk-top-container\"><div class=\"sk-text-repr-fallback\"><pre>RandomizedSearchCV(cv=10,\n",
       "                   estimator=DecisionTreeClassifier(criterion=&#x27;entropy&#x27;,\n",
       "                                                    max_depth=3,\n",
       "                                                    max_features=&#x27;log2&#x27;),\n",
       "                   param_distributions={&#x27;criterion&#x27;: [&#x27;gini&#x27;, &#x27;entropy&#x27;,\n",
       "                                                      &#x27;log_loss&#x27;],\n",
       "                                        &#x27;max_depth&#x27;: [1, 2, 3, 4, 5],\n",
       "                                        &#x27;max_features&#x27;: [&#x27;auto&#x27;, &#x27;sqrt&#x27;,\n",
       "                                                         &#x27;log2&#x27;],\n",
       "                                        &#x27;splitter&#x27;: [&#x27;best&#x27;, &#x27;random&#x27;]},\n",
       "                   scoring=&#x27;accuracy&#x27;, verbose=3)</pre><b>In a Jupyter environment, please rerun this cell to show the HTML representation or trust the notebook. <br />On GitHub, the HTML representation is unable to render, please try loading this page with nbviewer.org.</b></div><div class=\"sk-container\" hidden><div class=\"sk-item sk-dashed-wrapped\"><div class=\"sk-label-container\"><div class=\"sk-label sk-toggleable\"><input class=\"sk-toggleable__control sk-hidden--visually\" id=\"sk-estimator-id-12\" type=\"checkbox\" ><label for=\"sk-estimator-id-12\" class=\"sk-toggleable__label sk-toggleable__label-arrow\">RandomizedSearchCV</label><div class=\"sk-toggleable__content\"><pre>RandomizedSearchCV(cv=10,\n",
       "                   estimator=DecisionTreeClassifier(criterion=&#x27;entropy&#x27;,\n",
       "                                                    max_depth=3,\n",
       "                                                    max_features=&#x27;log2&#x27;),\n",
       "                   param_distributions={&#x27;criterion&#x27;: [&#x27;gini&#x27;, &#x27;entropy&#x27;,\n",
       "                                                      &#x27;log_loss&#x27;],\n",
       "                                        &#x27;max_depth&#x27;: [1, 2, 3, 4, 5],\n",
       "                                        &#x27;max_features&#x27;: [&#x27;auto&#x27;, &#x27;sqrt&#x27;,\n",
       "                                                         &#x27;log2&#x27;],\n",
       "                                        &#x27;splitter&#x27;: [&#x27;best&#x27;, &#x27;random&#x27;]},\n",
       "                   scoring=&#x27;accuracy&#x27;, verbose=3)</pre></div></div></div><div class=\"sk-parallel\"><div class=\"sk-parallel-item\"><div class=\"sk-item\"><div class=\"sk-label-container\"><div class=\"sk-label sk-toggleable\"><input class=\"sk-toggleable__control sk-hidden--visually\" id=\"sk-estimator-id-13\" type=\"checkbox\" ><label for=\"sk-estimator-id-13\" class=\"sk-toggleable__label sk-toggleable__label-arrow\">estimator: DecisionTreeClassifier</label><div class=\"sk-toggleable__content\"><pre>DecisionTreeClassifier(criterion=&#x27;entropy&#x27;, max_depth=3, max_features=&#x27;log2&#x27;)</pre></div></div></div><div class=\"sk-serial\"><div class=\"sk-item\"><div class=\"sk-estimator sk-toggleable\"><input class=\"sk-toggleable__control sk-hidden--visually\" id=\"sk-estimator-id-14\" type=\"checkbox\" ><label for=\"sk-estimator-id-14\" class=\"sk-toggleable__label sk-toggleable__label-arrow\">DecisionTreeClassifier</label><div class=\"sk-toggleable__content\"><pre>DecisionTreeClassifier(criterion=&#x27;entropy&#x27;, max_depth=3, max_features=&#x27;log2&#x27;)</pre></div></div></div></div></div></div></div></div></div></div>"
      ],
      "text/plain": [
       "RandomizedSearchCV(cv=10,\n",
       "                   estimator=DecisionTreeClassifier(criterion='entropy',\n",
       "                                                    max_depth=3,\n",
       "                                                    max_features='log2'),\n",
       "                   param_distributions={'criterion': ['gini', 'entropy',\n",
       "                                                      'log_loss'],\n",
       "                                        'max_depth': [1, 2, 3, 4, 5],\n",
       "                                        'max_features': ['auto', 'sqrt',\n",
       "                                                         'log2'],\n",
       "                                        'splitter': ['best', 'random']},\n",
       "                   scoring='accuracy', verbose=3)"
      ]
     },
     "execution_count": 35,
     "metadata": {},
     "output_type": "execute_result"
    }
   ],
   "source": [
    "classifier2 = RandomizedSearchCV(classifier,param_distributions=parameters1,cv=10,scoring='accuracy',verbose=3)\n",
    "classifier2.fit(x_train_scaled,y_train)"
   ]
  },
  {
   "cell_type": "code",
   "execution_count": 36,
   "id": "0d0974b0-df0a-48f1-9f7f-dcf4f77ae38d",
   "metadata": {},
   "outputs": [
    {
     "data": {
      "text/plain": [
       "{'splitter': 'best',\n",
       " 'max_features': 'auto',\n",
       " 'max_depth': 5,\n",
       " 'criterion': 'log_loss'}"
      ]
     },
     "execution_count": 36,
     "metadata": {},
     "output_type": "execute_result"
    }
   ],
   "source": [
    "classifier2.best_params_"
   ]
  },
  {
   "cell_type": "code",
   "execution_count": 43,
   "id": "92a3bc61-32c4-4fa0-a20c-67b0b619861c",
   "metadata": {},
   "outputs": [
    {
     "name": "stdout",
     "output_type": "stream",
     "text": [
      "0.7480314960629921\n",
      "[[144  41]\n",
      " [ 23  46]]\n",
      "              precision    recall  f1-score   support\n",
      "\n",
      "           0       0.86      0.78      0.82       185\n",
      "           1       0.53      0.67      0.59        69\n",
      "\n",
      "    accuracy                           0.75       254\n",
      "   macro avg       0.70      0.72      0.70       254\n",
      "weighted avg       0.77      0.75      0.76       254\n",
      "\n"
     ]
    }
   ],
   "source": [
    "classifier = DecisionTreeClassifier(criterion = 'log_loss',max_depth = 5,max_features = 'auto',splitter = 'best')\n",
    "classifier.fit(x_train_scaled,y_train)\n",
    "y_pred2 = classifier.predict(x_test_scaled)\n",
    "print(accuracy_score(y_pred2,y_test))\n",
    "print(confusion_matrix(y_pred2,y_test))\n",
    "print(classification_report(y_pred2,y_test))"
   ]
  },
  {
   "cell_type": "markdown",
   "id": "f1d19825-bb76-4bea-92c0-9a8f4f5dd2b8",
   "metadata": {},
   "source": [
    "# Decision Tree Classifier Accuracy is : 74.80%"
   ]
  },
  {
   "cell_type": "code",
   "execution_count": null,
   "id": "729cc700-d2c9-4c6d-84cc-99379d464c0d",
   "metadata": {},
   "outputs": [],
   "source": []
  }
 ],
 "metadata": {
  "kernelspec": {
   "display_name": "Python 3 (ipykernel)",
   "language": "python",
   "name": "python3"
  },
  "language_info": {
   "codemirror_mode": {
    "name": "ipython",
    "version": 3
   },
   "file_extension": ".py",
   "mimetype": "text/x-python",
   "name": "python",
   "nbconvert_exporter": "python",
   "pygments_lexer": "ipython3",
   "version": "3.10.8"
  }
 },
 "nbformat": 4,
 "nbformat_minor": 5
}
